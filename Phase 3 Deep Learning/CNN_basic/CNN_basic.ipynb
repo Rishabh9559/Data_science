{
  "nbformat": 4,
  "nbformat_minor": 0,
  "metadata": {
    "colab": {
      "provenance": [],
      "authorship_tag": "ABX9TyNR86cvYYoxjfaGDhqCIE6X",
      "include_colab_link": true
    },
    "kernelspec": {
      "name": "python3",
      "display_name": "Python 3"
    },
    "language_info": {
      "name": "python"
    }
  },
  "cells": [
    {
      "cell_type": "markdown",
      "metadata": {
        "id": "view-in-github",
        "colab_type": "text"
      },
      "source": [
        "<a href=\"https://colab.research.google.com/github/Rishabh9559/Data_science/blob/main/Phase%203%20Deep%20Learning/CNN_basic/CNN_basic.ipynb\" target=\"_parent\"><img src=\"https://colab.research.google.com/assets/colab-badge.svg\" alt=\"Open In Colab\"/></a>"
      ]
    },
    {
      "cell_type": "markdown",
      "source": [
        "# Convolutional neural network - CNN"
      ],
      "metadata": {
        "id": "t8WjIjxjc9Nx"
      }
    },
    {
      "cell_type": "markdown",
      "source": [
        "A convolutional neural network (CNN) is a type of feedforward neural network that learns features via filter (or kernel) optimization.\n",
        "\n",
        "This type of deep learning network has been applied to process and make predictions from many different types of data including text, images and audio."
      ],
      "metadata": {
        "id": "pgpfw6Jbc_rW"
      }
    },
    {
      "cell_type": "markdown",
      "source": [],
      "metadata": {
        "id": "_9e8fc9adIKD"
      }
    },
    {
      "cell_type": "code",
      "execution_count": null,
      "metadata": {
        "id": "YQCwatlTchBR"
      },
      "outputs": [],
      "source": []
    }
  ]
}