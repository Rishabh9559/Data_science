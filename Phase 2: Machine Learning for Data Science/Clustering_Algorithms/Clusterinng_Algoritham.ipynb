{
  "nbformat": 4,
  "nbformat_minor": 0,
  "metadata": {
    "colab": {
      "provenance": [],
      "authorship_tag": "ABX9TyMIhm7myApwbdtcNGI8W9gp",
      "include_colab_link": true
    },
    "kernelspec": {
      "name": "python3",
      "display_name": "Python 3"
    },
    "language_info": {
      "name": "python"
    }
  },
  "cells": [
    {
      "cell_type": "markdown",
      "metadata": {
        "id": "view-in-github",
        "colab_type": "text"
      },
      "source": [
        "<a href=\"https://colab.research.google.com/github/Rishabh9559/Data_science/blob/main/Phase%202%3A%20Machine%20Learning%20for%20Data%20Science/Clustering_Algorithms/Clusterinng_Algoritham.ipynb\" target=\"_parent\"><img src=\"https://colab.research.google.com/assets/colab-badge.svg\" alt=\"Open In Colab\"/></a>"
      ]
    },
    {
      "cell_type": "markdown",
      "source": [
        "# Clustering Algoritham"
      ],
      "metadata": {
        "id": "JN5GRQoist7E"
      }
    },
    {
      "cell_type": "markdown",
      "source": [
        "Clustering algorithms in machine learning are unsupervised learning techniques that group unlabeled data points into clusters based on their similarity, identifying natural groupings and patterns without predefined categories.\n",
        "\n",
        "Key types include K-Means (centroid-based), Hierarchical clustering, Density-based clustering (like DBSCAN), and Distribution-based clustering (like Gaussian Mixture Models)."
      ],
      "metadata": {
        "id": "t9Xu5IUks004"
      }
    },
    {
      "cell_type": "markdown",
      "source": [],
      "metadata": {
        "id": "9aZ554KHtDRo"
      }
    },
    {
      "cell_type": "code",
      "execution_count": null,
      "metadata": {
        "id": "1Wua116bsoLe"
      },
      "outputs": [],
      "source": []
    }
  ]
}