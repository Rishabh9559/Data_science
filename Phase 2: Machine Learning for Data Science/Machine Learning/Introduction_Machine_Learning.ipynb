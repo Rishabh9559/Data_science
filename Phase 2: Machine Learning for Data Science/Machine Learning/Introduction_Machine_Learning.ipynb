{
  "nbformat": 4,
  "nbformat_minor": 0,
  "metadata": {
    "colab": {
      "provenance": [],
      "authorship_tag": "ABX9TyNS+nksppfl6MJMY+hnTU82",
      "include_colab_link": true
    },
    "kernelspec": {
      "name": "python3",
      "display_name": "Python 3"
    },
    "language_info": {
      "name": "python"
    }
  },
  "cells": [
    {
      "cell_type": "markdown",
      "metadata": {
        "id": "view-in-github",
        "colab_type": "text"
      },
      "source": [
        "<a href=\"https://colab.research.google.com/github/Rishabh9559/Data_science/blob/main/Phase%202%3A%20Machine%20Learning%20for%20Data%20Science/Machine%20Learning/Introduction_Machine_Learning.ipynb\" target=\"_parent\"><img src=\"https://colab.research.google.com/assets/colab-badge.svg\" alt=\"Open In Colab\"/></a>"
      ]
    },
    {
      "cell_type": "markdown",
      "source": [
        "## **Introduction Machine Learning**"
      ],
      "metadata": {
        "id": "En_eDopVZi6s"
      }
    },
    {
      "cell_type": "markdown",
      "source": [
        "\n",
        "### 🧠 **Introduction to Machine Learning**\n",
        "\n",
        "**Machine Learning (ML)** is a subset of Artificial Intelligence (AI) that enables systems to **automatically learn** from data and improve their performance on tasks **without being explicitly programmed**.\n",
        "\n",
        "---\n",
        "\n",
        "### 📌 **Why Machine Learning?**\n",
        "\n",
        "Traditional programming requires explicit rules and logic. ML, on the other hand, **learns patterns** from data to make predictions or decisions.\n",
        "\n",
        "---\n",
        "\n",
        "### 🔍 **Definition**\n",
        "\n",
        "> \"Machine Learning is the study of computer algorithms that improve automatically through experience.\"\n",
        "> — Tom M. Mitchell\n",
        "\n",
        "---\n",
        "\n",
        "### 📚 **Types of Machine Learning**\n",
        "\n",
        "1. **Supervised Learning**\n",
        "\n",
        "   * Learn from labeled data (input → output).\n",
        "   * Examples: Classification (e.g., spam detection), Regression (e.g., house price prediction)\n",
        "\n",
        "2. **Unsupervised Learning**\n",
        "\n",
        "   * Learn from unlabeled data (no output given).\n",
        "   * Examples: Clustering (e.g., customer segmentation), Dimensionality Reduction (e.g., PCA)\n",
        "\n",
        "3. **Semi-Supervised Learning**\n",
        "\n",
        "   * Combination of labeled and unlabeled data.\n",
        "\n",
        "4. **Reinforcement Learning**\n",
        "\n",
        "   * Learn by interacting with an environment and receiving feedback in the form of rewards or penalties.\n",
        "   * Example: Game playing (like AlphaGo)\n",
        "\n",
        "---\n",
        "\n",
        "### ⚙️ **Basic ML Workflow**\n",
        "\n",
        "1. **Collect Data**\n",
        "2. **Preprocess Data**\n",
        "3. **Choose a Model**\n",
        "4. **Train the Model**\n",
        "5. **Evaluate the Model**\n",
        "6. **Tune and Improve**\n",
        "7. **Deploy**\n",
        "\n",
        "---\n",
        "\n",
        "### 🧰 **Common Algorithms**\n",
        "\n",
        "* Linear Regression\n",
        "* Logistic Regression\n",
        "* Decision Trees\n",
        "* k-Nearest Neighbors (kNN)\n",
        "* Support Vector Machines (SVM)\n",
        "* Naive Bayes\n",
        "* Neural Networks\n",
        "* k-Means Clustering\n",
        "* Random Forests\n",
        "\n",
        "---\n",
        "\n",
        "### 📦 **Popular ML Libraries**\n",
        "\n",
        "* Python: `scikit-learn`, `TensorFlow`, `Keras`, `PyTorch`, `XGBoost`\n",
        "* R: `caret`, `mlr`, `randomForest`\n",
        "\n",
        "---\n",
        "\n",
        "### 🔮 **Applications**\n",
        "\n",
        "* Voice Assistants (e.g., Siri, Alexa)\n",
        "* Fraud Detection\n",
        "* Recommendation Systems (Netflix, Amazon)\n",
        "* Healthcare Diagnosis\n",
        "* Self-driving Cars\n",
        "\n",
        "---\n"
      ],
      "metadata": {
        "id": "1xBfdoNCZpNc"
      }
    },
    {
      "cell_type": "code",
      "execution_count": null,
      "metadata": {
        "id": "QrvQl-PrX550"
      },
      "outputs": [],
      "source": []
    }
  ]
}