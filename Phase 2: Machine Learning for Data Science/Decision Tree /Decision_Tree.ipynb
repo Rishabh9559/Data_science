{
  "nbformat": 4,
  "nbformat_minor": 0,
  "metadata": {
    "colab": {
      "provenance": [],
      "authorship_tag": "ABX9TyN9z+r0V/1DqnNpVuj16tl1",
      "include_colab_link": true
    },
    "kernelspec": {
      "name": "python3",
      "display_name": "Python 3"
    },
    "language_info": {
      "name": "python"
    }
  },
  "cells": [
    {
      "cell_type": "markdown",
      "metadata": {
        "id": "view-in-github",
        "colab_type": "text"
      },
      "source": [
        "<a href=\"https://colab.research.google.com/github/Rishabh9559/Data_science/blob/main/Phase%202%3A%20Machine%20Learning%20for%20Data%20Science/Decision%20Tree%20/Decision_Tree.ipynb\" target=\"_parent\"><img src=\"https://colab.research.google.com/assets/colab-badge.svg\" alt=\"Open In Colab\"/></a>"
      ]
    },
    {
      "cell_type": "markdown",
      "source": [
        "### Lower threshold (e.g., 0.2)\n",
        "→ Model predicts positive more easily\n",
        "* More True Positives\n",
        "* More False Positives\n",
        "* Fewer False Negatives\n",
        "\n",
        "### Higher threshold (e.g., 0.8)\n",
        "Model predicts positive only when very confident\n",
        "* More True Negatives\n",
        "* More False Negatives\n",
        "* Fewer False Positives\n",
        "\n",
        "\n",
        "\n",
        "Example :\n",
        "\n",
        "Low threshold → Good for safety-critical tasks (don’t miss positives, like disease detection).\n",
        "\n",
        "High threshold → Good for avoiding false alarms (spam detection, fraud alerts)."
      ],
      "metadata": {
        "id": "GlmeuffF6Ifm"
      }
    },
    {
      "cell_type": "code",
      "execution_count": null,
      "metadata": {
        "id": "4NzLpg5g2tQv"
      },
      "outputs": [],
      "source": []
    }
  ]
}