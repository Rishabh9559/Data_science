{
  "nbformat": 4,
  "nbformat_minor": 0,
  "metadata": {
    "colab": {
      "provenance": [],
      "authorship_tag": "ABX9TyOUwkQRfVOdt8guxDDE+qsq",
      "include_colab_link": true
    },
    "kernelspec": {
      "name": "python3",
      "display_name": "Python 3"
    },
    "language_info": {
      "name": "python"
    }
  },
  "cells": [
    {
      "cell_type": "markdown",
      "metadata": {
        "id": "view-in-github",
        "colab_type": "text"
      },
      "source": [
        "<a href=\"https://colab.research.google.com/github/Rishabh9559/Data_science/blob/main/Phase%202%3A%20Machine%20Learning%20for%20Data%20Science/Linear%20Regression%20Implement/Linear_Regression_Implement.ipynb\" target=\"_parent\"><img src=\"https://colab.research.google.com/assets/colab-badge.svg\" alt=\"Open In Colab\"/></a>"
      ]
    },
    {
      "cell_type": "markdown",
      "source": [
        "## Linear Regression Implement"
      ],
      "metadata": {
        "id": "shjwNOg4zhUJ"
      }
    },
    {
      "cell_type": "markdown",
      "source": [
        "1. Business Problem Understanding\n",
        "\n",
        "2. Data Ingestion/ Collecction -> SQL\n",
        "\n",
        "3. Data Understanding -> Rows (Record) , Column(Feature)\n",
        "\n",
        "4. Exploratory Data Analyies(EDA) -> statietics -> 80 % time taken,\n",
        "  \n",
        " - Data Normalization, Standardization , Missing value, Visualization, Correlation, heatMap, feature Engineering, Feature Selection, Plots.\n",
        "\n",
        "5. Data Split\n",
        "  - Train set , Test set (80:20)\n",
        "\n",
        "6. Model Training\n",
        "    - which algoritham suits most according dataset (labels and unlabels)\n",
        "    - Overfitting , underFitting\n",
        "\n",
        "7. Model Testing\n",
        "  - Model prediction y cap , y(actual value)\n",
        "\n",
        "8. Model Evaluation\n",
        "  - MSE, MAE, RMSE, R-squaare, Adjueted R square\n",
        "\n",
        "  - Accuracy, Drecision, Recall, Classification taske , Confation matrix  \n",
        "\n",
        "9. Model Deployment\n",
        "  "
      ],
      "metadata": {
        "id": "D8ftSyGvzmA1"
      }
    },
    {
      "cell_type": "code",
      "execution_count": null,
      "metadata": {
        "id": "MN2P0eEPytrn"
      },
      "outputs": [],
      "source": []
    }
  ]
}