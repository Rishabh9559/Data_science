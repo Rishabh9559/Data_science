{
  "nbformat": 4,
  "nbformat_minor": 0,
  "metadata": {
    "colab": {
      "provenance": [],
      "authorship_tag": "ABX9TyOBSqx0xNHQaAJEa7Ci2xjJ",
      "include_colab_link": true
    },
    "kernelspec": {
      "name": "python3",
      "display_name": "Python 3"
    },
    "language_info": {
      "name": "python"
    }
  },
  "cells": [
    {
      "cell_type": "markdown",
      "metadata": {
        "id": "view-in-github",
        "colab_type": "text"
      },
      "source": [
        "<a href=\"https://colab.research.google.com/github/Rishabh9559/Data_science/blob/main/Phase%202%3A%20Machine%20Learning%20for%20Data%20Science/Random_Forest/Random_forest.ipynb\" target=\"_parent\"><img src=\"https://colab.research.google.com/assets/colab-badge.svg\" alt=\"Open In Colab\"/></a>"
      ]
    },
    {
      "cell_type": "markdown",
      "source": [
        "\n",
        "# **Random Forest** in ML?\n",
        "\n",
        "Random Forest is an **ensemble learning algorithm** that combines multiple **decision trees** to improve performance and reduce overfitting.\n",
        "\n",
        "* Each tree is trained on a **random subset** of the data (bagging).\n",
        "* At each split in the tree, a **random subset of features** is considered (feature randomness).\n",
        "* The final output is decided by **majority voting** (for classification) or **average prediction** (for regression).\n",
        "\n",
        "Think of it as: *“a crowd of weak decision-makers (trees) becoming a strong decision-maker (forest).”*\n",
        "\n",
        "\n",
        "\n",
        "##  Formula (Conceptual)\n",
        "\n",
        "For **classification**:\n",
        "\n",
        "$$\n",
        "\\hat{y} = \\text{mode}\\{h_1(x), h_2(x), ..., h_n(x)\\}\n",
        "$$\n",
        "\n",
        "where $h_i(x)$ = prediction of the $i$-th decision tree.\n",
        "\n",
        "For **regression**:\n",
        "\n",
        "$$\n",
        "\\hat{y} = \\frac{1}{n} \\sum_{i=1}^{n} h_i(x)\n",
        "$$\n",
        "\n",
        "\n",
        "\n",
        "##  Types of Random Forest\n",
        "\n",
        "Actually, Random Forest itself is one algorithm, but depending on the task, we can categorize it:\n",
        "\n",
        "1. **Random Forest Classifier** – Used when the target is categorical (e.g., disease prediction, spam detection).\n",
        "2. **Random Forest Regressor** – Used when the target is numerical (e.g., predicting stock price, house price).\n",
        "3. **Extra Trees (Extremely Randomized Trees)** – A variant where splits are chosen more randomly, making it faster.\n",
        "\n",
        "\n",
        "\n",
        "##  Why use Random Forest (Advantages)\n",
        "\n",
        "1. **Reduces Overfitting** – Multiple trees average out the noise.\n",
        "2. **Handles Missing Values & Outliers** well.\n",
        "3. **Works with Large Datasets** – Can handle thousands of features.\n",
        "4. **Good Accuracy** – Performs well in both classification and regression.\n",
        "5. **Feature Importance** – Helps in feature selection by ranking variable importance.\n",
        "\n",
        "\n",
        "\n",
        "##  Why *not* use other ML algorithms instead?\n",
        "\n",
        "* **Compared to Single Decision Tree** → Random Forest is less prone to overfitting.\n",
        "* **Compared to Logistic Regression** → Random Forest handles nonlinear relationships better.\n",
        "* **Compared to SVM** → Random Forest is faster on large datasets with many features.\n",
        "* **Compared to Neural Networks** → Random Forest requires less data preprocessing and is easier to interpret.\n"
      ],
      "metadata": {
        "id": "pmcdWVFXTU2q"
      }
    },
    {
      "cell_type": "code",
      "execution_count": null,
      "metadata": {
        "id": "BRfLfQ9GSjrQ"
      },
      "outputs": [],
      "source": []
    }
  ]
}