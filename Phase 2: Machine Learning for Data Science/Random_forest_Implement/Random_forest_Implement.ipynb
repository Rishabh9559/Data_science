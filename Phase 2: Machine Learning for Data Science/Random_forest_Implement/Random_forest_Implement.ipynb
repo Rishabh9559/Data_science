{
  "nbformat": 4,
  "nbformat_minor": 0,
  "metadata": {
    "colab": {
      "provenance": [],
      "authorship_tag": "ABX9TyPMxDwCgQ2kKP8kUP9z9lR5",
      "include_colab_link": true
    },
    "kernelspec": {
      "name": "python3",
      "display_name": "Python 3"
    },
    "language_info": {
      "name": "python"
    }
  },
  "cells": [
    {
      "cell_type": "markdown",
      "metadata": {
        "id": "view-in-github",
        "colab_type": "text"
      },
      "source": [
        "<a href=\"https://colab.research.google.com/github/Rishabh9559/Data_science/blob/main/Phase%202%3A%20Machine%20Learning%20for%20Data%20Science/Random_forest_Implement/Random_forest_Implement.ipynb\" target=\"_parent\"><img src=\"https://colab.research.google.com/assets/colab-badge.svg\" alt=\"Open In Colab\"/></a>"
      ]
    },
    {
      "cell_type": "markdown",
      "source": [
        "# Random Forest Implement"
      ],
      "metadata": {
        "id": "TWSnEbuBsHKE"
      }
    },
    {
      "cell_type": "markdown",
      "source": [
        "**Suppose:**\n",
        "\n",
        "**Original dataset** = [1,2,3,4,5,6,7,8,9,10] (10 samples for simplicity)\n",
        "\n",
        "Number of **models(estimators)** = 3\n",
        "\n",
        "\n",
        "\n",
        "**Bootstrap sampling (with replacement)**:\n",
        "\n",
        "* Model 1 randomly picks 10 samples → [3,7,1,7,9,2,2,5,8,3]\n",
        "(notice some are repeated like 7,2,3, some are missing like 4,6,10)\n",
        "\n",
        "* Model 2 randomly picks 10 samples → [1,4,4,6,2,9,5,8,10,10]\n",
        "(different random set, again repeats allowed)\n",
        "\n",
        "* Model 3 randomly picks 10 samples → [7,3,3,2,6,6,1,8,9,4]\n",
        "(again different selection)"
      ],
      "metadata": {
        "id": "nnGgr-Oxt60U"
      }
    },
    {
      "cell_type": "code",
      "execution_count": null,
      "metadata": {
        "id": "IQaw92vXqN04"
      },
      "outputs": [],
      "source": []
    },
    {
      "cell_type": "code",
      "source": [],
      "metadata": {
        "id": "qZUbLjFqsGKT"
      },
      "execution_count": null,
      "outputs": []
    }
  ]
}