{
  "nbformat": 4,
  "nbformat_minor": 0,
  "metadata": {
    "colab": {
      "provenance": [],
      "authorship_tag": "ABX9TyMK9kcraJun/7qX47oIPbt+",
      "include_colab_link": true
    },
    "kernelspec": {
      "name": "python3",
      "display_name": "Python 3"
    },
    "language_info": {
      "name": "python"
    }
  },
  "cells": [
    {
      "cell_type": "markdown",
      "metadata": {
        "id": "view-in-github",
        "colab_type": "text"
      },
      "source": [
        "<a href=\"https://colab.research.google.com/github/Rishabh9559/Data_science/blob/main/python/OOP.ipynb\" target=\"_parent\"><img src=\"https://colab.research.google.com/assets/colab-badge.svg\" alt=\"Open In Colab\"/></a>"
      ]
    },
    {
      "cell_type": "markdown",
      "source": [
        "**OPP**"
      ],
      "metadata": {
        "id": "bBeugxZqUG_q"
      }
    },
    {
      "cell_type": "markdown",
      "source": [
        "OOP promotes code organization, reusability, and maintainability through concepts like encapsulation, inheritance, and polymorphism, which are not readily available with simple functions. While functions are useful for specific tasks\n",
        "\n",
        "\n",
        "\n",
        "\n"
      ],
      "metadata": {
        "id": "0teRNogqSrlV"
      }
    },
    {
      "cell_type": "markdown",
      "source": [
        "**Class**"
      ],
      "metadata": {
        "id": "6AnFe5D6TRxH"
      }
    },
    {
      "cell_type": "markdown",
      "source": [
        "**class** :  a class is a blueprint or template for creating objects, defining their properties (variables) and behaviors (methods).\n",
        "\n",
        "It's a user-defined data type that groups related data and functions together."
      ],
      "metadata": {
        "id": "BYxaZ2sBSvW5"
      }
    },
    {
      "cell_type": "markdown",
      "source": [
        "**Object**"
      ],
      "metadata": {
        "id": "rzHGQ22sTUdk"
      }
    },
    {
      "cell_type": "markdown",
      "source": [
        "An object is a fundamental unit that represents a real-world entity or concept.<br> It encapsulates data (attributes) and behavior (methods) related to that entity.\n",
        "<br>Essentially, an object is an instance of a class"
      ],
      "metadata": {
        "id": "MuCMMfJ7TWyj"
      }
    },
    {
      "cell_type": "markdown",
      "source": [
        "**OOP Four Piller**"
      ],
      "metadata": {
        "id": "fOb6KV7WTr0H"
      }
    },
    {
      "cell_type": "markdown",
      "source": [
        "The four fundamental pillars of Object-Oriented Programming (OOP) are\n",
        "- Abstraction,\n",
        "- Encapsulation,\n",
        "- Inheritance, and\n",
        "- Polymorphism.\n",
        "\n",
        "  They are essential for creating organized, maintainable, and reusable code.\n",
        "  \n",
        "   \n",
        "1. Abstraction:\n",
        "\n",
        "\n",
        "  Hiding complex implementation details and exposing only the essential features of an object or class.\n",
        "\n",
        "Example:\n",
        "A car can be abstracted as having features like steering, accelerating, and braking, without exposing the internal workings of the engine.\n",
        "\n",
        "2. Encapsulation:\n",
        "\n",
        "Definition:\n",
        "Bundling data (attributes) and the methods that operate on that data within a single unit (class) and controlling access to them.\n",
        "\n",
        "Example:\n",
        "A bank account can be encapsulated, with its balance (data) and methods like deposit and withdraw (methods), and access to the balance is controlled through the methods.\n",
        "\n",
        "3. Inheritance:\n",
        "\n",
        "Definition:\n",
        "Creating new classes (child classes) that inherit properties and methods from existing classes (parent classes).\n",
        "\n",
        "Example:\n",
        "A Dog class can inherit from an Animal class, inheriting attributes like color and methods like eat and sleep, and then add its own unique attributes and methods like bark.\n",
        "\n",
        "4. Polymorphism:\n",
        "\n",
        "Definition:\n",
        "Allowing objects of different classes to be treated as objects of a common type and perform different actions based on their actual type.\n",
        "\n",
        "Example:\n",
        "A method called speak() could be defined in an Animal class. Then, Dog and Cat classes (inheriting from Animal) could have their own implementations of speak(), with a Dog barking and a Cat meowing."
      ],
      "metadata": {
        "id": "WonUtfFbceoM"
      }
    }
  ]
}