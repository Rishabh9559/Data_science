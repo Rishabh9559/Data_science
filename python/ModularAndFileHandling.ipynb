{
  "nbformat": 4,
  "nbformat_minor": 0,
  "metadata": {
    "colab": {
      "provenance": [],
      "authorship_tag": "ABX9TyOWclCTDmK/S9maa1pM6c8j",
      "include_colab_link": true
    },
    "kernelspec": {
      "name": "python3",
      "display_name": "Python 3"
    },
    "language_info": {
      "name": "python"
    }
  },
  "cells": [
    {
      "cell_type": "markdown",
      "metadata": {
        "id": "view-in-github",
        "colab_type": "text"
      },
      "source": [
        "<a href=\"https://colab.research.google.com/github/Rishabh9559/Data_science/blob/main/python/ModularAndFileHandling.ipynb\" target=\"_parent\"><img src=\"https://colab.research.google.com/assets/colab-badge.svg\" alt=\"Open In Colab\"/></a>"
      ]
    },
    {
      "cell_type": "markdown",
      "source": [
        "**Modules in python** <br>\n",
        "- file extension is .py <br>\n",
        "- module include method, variable, class and function. <br>\n"
      ],
      "metadata": {
        "id": "9UI2-TOLE8c1"
      }
    },
    {
      "cell_type": "code",
      "execution_count": null,
      "metadata": {
        "id": "HoSaNZiIEAMb"
      },
      "outputs": [],
      "source": [
        "# creating module\n",
        "\n",
        "def square(num):\n",
        "  return num*num\n",
        "\n",
        "\n",
        "\n",
        "\n",
        "def cube(num):\n",
        "  return num**3\n",
        "\n",
        "\n",
        "\n",
        "def factoriacl(num):\n",
        "  if(num==1 or num==0): #base fucntion\n",
        "    return 1;\n",
        "  return num*factoriacl(num-1)\n",
        "\n",
        "\n",
        "def add(num1,num2):\n",
        "  return num1+num2\n"
      ]
    }
  ]
}