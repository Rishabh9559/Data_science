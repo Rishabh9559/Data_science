{
  "nbformat": 4,
  "nbformat_minor": 0,
  "metadata": {
    "colab": {
      "provenance": [],
      "authorship_tag": "ABX9TyP48+mVzPhcXUPHUqWbUO+Q",
      "include_colab_link": true
    },
    "kernelspec": {
      "name": "python3",
      "display_name": "Python 3"
    },
    "language_info": {
      "name": "python"
    }
  },
  "cells": [
    {
      "cell_type": "markdown",
      "metadata": {
        "id": "view-in-github",
        "colab_type": "text"
      },
      "source": [
        "<a href=\"https://colab.research.google.com/github/Rishabh9559/Data_science/blob/main/Tuple.ipynb\" target=\"_parent\"><img src=\"https://colab.research.google.com/assets/colab-badge.svg\" alt=\"Open In Colab\"/></a>"
      ]
    },
    {
      "cell_type": "markdown",
      "source": [
        "**Tuple**  :  tup=(1,2,3)  <br> All property of string, array, slice , split follow <br> tuple is  immutable we can not add new element"
      ],
      "metadata": {
        "id": "Jq7tRoR_oZYu"
      }
    },
    {
      "cell_type": "code",
      "execution_count": 3,
      "metadata": {
        "colab": {
          "base_uri": "https://localhost:8080/"
        },
        "id": "PEaMJiNRoTyh",
        "outputId": "826be414-1470-4fbf-f187-83d0235457a6"
      },
      "outputs": [
        {
          "output_type": "stream",
          "name": "stdout",
          "text": [
            "<class 'tuple'>\n",
            "1\n"
          ]
        }
      ],
      "source": [
        "myTuple=(1,4,9)\n",
        "print(type(myTuple))  # data type\n",
        "print(myTuple[0]) # index"
      ]
    },
    {
      "cell_type": "code",
      "source": [
        "myTuble2=(1,2,3,[4,5,6])\n",
        "print(myTuble2[2])\n",
        "print(myTuble2[3][1])  # nested indexing\n",
        "print(myTuble2[0:3]) #start : end\n",
        "print(myTuble2[: :-1])  # reverse\n",
        "print(myTuble2[0:-1]) #start : end : step"
      ],
      "metadata": {
        "colab": {
          "base_uri": "https://localhost:8080/"
        },
        "id": "CgDm8suppcj2",
        "outputId": "7b26e7c3-dcd0-4c60-921a-a2b81043e72b"
      },
      "execution_count": 16,
      "outputs": [
        {
          "output_type": "stream",
          "name": "stdout",
          "text": [
            "3\n",
            "5\n",
            "(1, 2, 3)\n",
            "([4, 5, 6], 3, 2, 1)\n",
            "(1,)\n"
          ]
        }
      ]
    },
    {
      "cell_type": "markdown",
      "source": [
        "Build in function"
      ],
      "metadata": {
        "id": "DK_yjGq3rEUe"
      }
    },
    {
      "cell_type": "code",
      "source": [
        "\n",
        "print(myTuble2.index(3))  # what is value of on index\n",
        "print(myTuble2.count(1))  # count freq\n",
        "print(max(myTuple))  # max number\n",
        "print(min(myTuple)) # min number\n",
        "print(sum(myTuple)) # sum of all number"
      ],
      "metadata": {
        "colab": {
          "base_uri": "https://localhost:8080/"
        },
        "id": "uoBxXThDrG1j",
        "outputId": "bbcb7fe7-6e4a-4af3-b0e0-6a0b583d5333"
      },
      "execution_count": 23,
      "outputs": [
        {
          "output_type": "stream",
          "name": "stdout",
          "text": [
            "2\n",
            "1\n",
            "9\n",
            "1\n",
            "14\n"
          ]
        }
      ]
    },
    {
      "cell_type": "markdown",
      "source": [
        "**Tuple to list** <br> **List to Tuple**"
      ],
      "metadata": {
        "id": "hxhrFxYxsUOF"
      }
    },
    {
      "cell_type": "code",
      "source": [
        "tuple3=('rahul','rakesh','Rishabh','rajat')\n",
        "\n",
        "#convert tuple into list\n",
        "list1=list(tuple3)\n",
        "print(list1)\n",
        "\n",
        "list2=['vishal','vaishnavi','vivek','vaani']\n",
        "\n",
        "list1.extend(list2)  # add two list , if we used append then only one element add\n",
        "print(list1)\n"
      ],
      "metadata": {
        "colab": {
          "base_uri": "https://localhost:8080/"
        },
        "id": "Cq5FDerDsSdU",
        "outputId": "4dc7bc93-ad73-4912-e1ff-d6c7356e658d"
      },
      "execution_count": 25,
      "outputs": [
        {
          "output_type": "stream",
          "name": "stdout",
          "text": [
            "['rahul', 'rakesh', 'Rishabh', 'rajat']\n",
            "['rahul', 'rakesh', 'Rishabh', 'rajat', 'vishal', 'vaishnavi', 'vivek', 'vaani']\n"
          ]
        }
      ]
    }
  ]
}
