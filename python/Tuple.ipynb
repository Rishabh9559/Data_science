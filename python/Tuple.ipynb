{
  "nbformat": 4,
  "nbformat_minor": 0,
  "metadata": {
    "colab": {
      "provenance": [],
      "authorship_tag": "ABX9TyNJcRRBVJ36QQjC8CCcuhlj",
      "include_colab_link": true
    },
    "kernelspec": {
      "name": "python3",
      "display_name": "Python 3"
    },
    "language_info": {
      "name": "python"
    }
  },
  "cells": [
    {
      "cell_type": "markdown",
      "metadata": {
        "id": "view-in-github",
        "colab_type": "text"
      },
      "source": [
        "<a href=\"https://colab.research.google.com/github/Rishabh9559/Data_science/blob/main/python/Tuple.ipynb\" target=\"_parent\"><img src=\"https://colab.research.google.com/assets/colab-badge.svg\" alt=\"Open In Colab\"/></a>"
      ]
    },
    {
      "cell_type": "markdown",
      "source": [
        "**Tuple**  :  tup=(1,2,3)  <br> All property of string, array, slice , split follow <br> tuple is  immutable we can not add new element"
      ],
      "metadata": {
        "id": "Jq7tRoR_oZYu"
      }
    },
    {
      "cell_type": "code",
      "execution_count": null,
      "metadata": {
        "colab": {
          "base_uri": "https://localhost:8080/"
        },
        "id": "PEaMJiNRoTyh",
        "outputId": "826be414-1470-4fbf-f187-83d0235457a6"
      },
      "outputs": [
        {
          "output_type": "stream",
          "name": "stdout",
          "text": [
            "<class 'tuple'>\n",
            "1\n"
          ]
        }
      ],
      "source": [
        "myTuple=(1,4,9)\n",
        "print(type(myTuple))  # data type\n",
        "print(myTuple[0]) # index"
      ]
    },
    {
      "cell_type": "code",
      "source": [
        "myTuble2=(1,2,3,[4,5,6])\n",
        "print(myTuble2[2])\n",
        "print(myTuble2[3][1])  # nested indexing\n",
        "print(myTuble2[0:3]) #start : end\n",
        "print(myTuble2[: :-1])  # reverse\n",
        "print(myTuble2[0:-1]) #start : end : step"
      ],
      "metadata": {
        "colab": {
          "base_uri": "https://localhost:8080/"
        },
        "id": "CgDm8suppcj2",
        "outputId": "7b26e7c3-dcd0-4c60-921a-a2b81043e72b"
      },
      "execution_count": null,
      "outputs": [
        {
          "output_type": "stream",
          "name": "stdout",
          "text": [
            "3\n",
            "5\n",
            "(1, 2, 3)\n",
            "([4, 5, 6], 3, 2, 1)\n",
            "(1,)\n"
          ]
        }
      ]
    },
    {
      "cell_type": "markdown",
      "source": [
        "Build in function"
      ],
      "metadata": {
        "id": "DK_yjGq3rEUe"
      }
    },
    {
      "cell_type": "code",
      "source": [
        "\n",
        "print(myTuble2.index(3))  # what is value of on index\n",
        "print(myTuble2.count(1))  # count freq\n",
        "print(max(myTuple))  # max number\n",
        "print(min(myTuple)) # min number\n",
        "print(sum(myTuple)) # sum of all number"
      ],
      "metadata": {
        "colab": {
          "base_uri": "https://localhost:8080/"
        },
        "id": "uoBxXThDrG1j",
        "outputId": "bbcb7fe7-6e4a-4af3-b0e0-6a0b583d5333"
      },
      "execution_count": null,
      "outputs": [
        {
          "output_type": "stream",
          "name": "stdout",
          "text": [
            "2\n",
            "1\n",
            "9\n",
            "1\n",
            "14\n"
          ]
        }
      ]
    },
    {
      "cell_type": "markdown",
      "source": [
        "**Tuple to list** <br> **List to Tuple**"
      ],
      "metadata": {
        "id": "hxhrFxYxsUOF"
      }
    },
    {
      "cell_type": "code",
      "source": [
        "tuple3=('rahul','rakesh','Rishabh','rajat')\n",
        "\n",
        "#convert tuple into list\n",
        "list1=list(tuple3)\n",
        "print(list1)\n",
        "\n",
        "list2=['vishal','vaishnavi','vivek','vaani']\n",
        "\n",
        "list1.extend(list2)  # add two list , if we used append then only one element add\n",
        "print(list1)\n"
      ],
      "metadata": {
        "colab": {
          "base_uri": "https://localhost:8080/"
        },
        "id": "Cq5FDerDsSdU",
        "outputId": "593a1c15-eb93-470e-a9d0-dd3d91d95cbc"
      },
      "execution_count": 3,
      "outputs": [
        {
          "output_type": "stream",
          "name": "stdout",
          "text": [
            "['rahul', 'rakesh', 'Rishabh', 'rajat']\n",
            "['rahul', 'rakesh', 'Rishabh', 'rajat', 'vishal', 'vaishnavi', 'vivek', 'vaani']\n"
          ]
        }
      ]
    },
    {
      "cell_type": "markdown",
      "source": [
        "element from tuple into variable\n"
      ],
      "metadata": {
        "id": "ZKIBd93rvxX8"
      }
    },
    {
      "cell_type": "code",
      "source": [
        "t=(1,2,3)\n",
        "a,b,c=t\n",
        "print(a)\n",
        "print(b)\n",
        "print(c)"
      ],
      "metadata": {
        "id": "9eDrfaHpwJ3K",
        "outputId": "2cbeae2c-c248-49db-bcd9-33a374a7ae88",
        "colab": {
          "base_uri": "https://localhost:8080/"
        }
      },
      "execution_count": 6,
      "outputs": [
        {
          "output_type": "stream",
          "name": "stdout",
          "text": [
            "1\n",
            "2\n",
            "3\n"
          ]
        }
      ]
    },
    {
      "cell_type": "code",
      "source": [
        "a,*b,c=tuple3 ## if variable less and element greater\n",
        "print(a)\n",
        "print(b)\n",
        "print(c)"
      ],
      "metadata": {
        "id": "NrgfxUgpv3r6",
        "outputId": "9a6237f7-1e5e-4db6-be75-e056381b3f1f",
        "colab": {
          "base_uri": "https://localhost:8080/"
        }
      },
      "execution_count": 7,
      "outputs": [
        {
          "output_type": "stream",
          "name": "stdout",
          "text": [
            "rahul\n",
            "['rakesh', 'Rishabh']\n",
            "rajat\n"
          ]
        }
      ]
    },
    {
      "cell_type": "markdown",
      "source": [
        "Adding two tuple into new tuple"
      ],
      "metadata": {
        "id": "urf0Wymbwg1D"
      }
    },
    {
      "cell_type": "code",
      "source": [
        "t1=(1,2,3)\n",
        "t2=(4,5,6)\n",
        "t3=t1+t2  ## adding tuple\n",
        "print(t3)"
      ],
      "metadata": {
        "id": "rJuuphZAwfw3",
        "outputId": "f3122944-de37-4ee8-a926-823e1a9a6c04",
        "colab": {
          "base_uri": "https://localhost:8080/"
        }
      },
      "execution_count": 8,
      "outputs": [
        {
          "output_type": "stream",
          "name": "stdout",
          "text": [
            "(1, 2, 3, 4, 5, 6)\n"
          ]
        }
      ]
    }
  ]
}