{
  "nbformat": 4,
  "nbformat_minor": 0,
  "metadata": {
    "colab": {
      "provenance": [],
      "authorship_tag": "ABX9TyMDoxAyyxkKcS8f1N7MhQyA",
      "include_colab_link": true
    },
    "kernelspec": {
      "name": "python3",
      "display_name": "Python 3"
    },
    "language_info": {
      "name": "python"
    }
  },
  "cells": [
    {
      "cell_type": "markdown",
      "metadata": {
        "id": "view-in-github",
        "colab_type": "text"
      },
      "source": [
        "<a href=\"https://colab.research.google.com/github/Rishabh9559/Data_science/blob/main/python/Control_Transfer_Statement.ipynb\" target=\"_parent\"><img src=\"https://colab.research.google.com/assets/colab-badge.svg\" alt=\"Open In Colab\"/></a>"
      ]
    },
    {
      "cell_type": "markdown",
      "source": [
        "**Control Transfer Statement** <br>\n",
        "Break Statement"
      ],
      "metadata": {
        "id": "CiQYooXUUtTh"
      }
    },
    {
      "cell_type": "code",
      "execution_count": null,
      "metadata": {
        "colab": {
          "base_uri": "https://localhost:8080/"
        },
        "id": "6CY8nQybUj-6",
        "outputId": "a68d2e88-14af-40f9-9ada-a01d37a8fbb0"
      },
      "outputs": [
        {
          "output_type": "stream",
          "name": "stdout",
          "text": [
            "0\n",
            "1\n",
            "2\n",
            "3\n",
            "4\n",
            "5\n"
          ]
        }
      ],
      "source": [
        "count=5\n",
        "for i in range(10):\n",
        "  print(i)\n",
        "  if i==count:\n",
        "    break  # Break statement - termenate the for loop"
      ]
    },
    {
      "cell_type": "markdown",
      "source": [
        "**Continue** - skipp the loop for this perticular condtion"
      ],
      "metadata": {
        "id": "L-aqxySzX6-O"
      }
    },
    {
      "cell_type": "code",
      "source": [
        "num=[1,2,3,4,5,6,7,8,9,10]\n",
        "for i in num:\n",
        "  if i%2==0:\n",
        "    continue  ## continue statement - skipp the loop for this perticular condtion\n",
        "  print(i)"
      ],
      "metadata": {
        "colab": {
          "base_uri": "https://localhost:8080/"
        },
        "id": "Z3TXcfkEX2Cg",
        "outputId": "8376bfb4-9150-4cb4-d268-bed0b67628e5"
      },
      "execution_count": null,
      "outputs": [
        {
          "output_type": "stream",
          "name": "stdout",
          "text": [
            "1\n",
            "3\n",
            "5\n",
            "7\n",
            "9\n"
          ]
        }
      ]
    },
    {
      "cell_type": "code",
      "source": [
        "i=1\n",
        "while i<3:\n",
        "  j=0\n",
        "  while j<5:\n",
        "    j+=1\n",
        "    if j==3:\n",
        "      continue\n",
        "    print(j)\n",
        "  i+=1"
      ],
      "metadata": {
        "colab": {
          "base_uri": "https://localhost:8080/"
        },
        "id": "oG-e4j7CYqiP",
        "outputId": "6e737616-51eb-4aba-c885-05d88062808e"
      },
      "execution_count": null,
      "outputs": [
        {
          "output_type": "stream",
          "name": "stdout",
          "text": [
            "1\n",
            "2\n",
            "4\n",
            "5\n",
            "1\n",
            "2\n",
            "4\n",
            "5\n"
          ]
        }
      ]
    },
    {
      "cell_type": "markdown",
      "source": [
        "**Pass** Statement : Empty function <br>\n",
        "pass a keyword where using no error showing. all function and other action working fine.<br> In future may be some things add ."
      ],
      "metadata": {
        "id": "XK1f7-snaqC7"
      }
    },
    {
      "cell_type": "code",
      "source": [
        "for i in range(5):\n",
        "  pass # is Empty function - in future we do some things but now we do nothing.\n",
        "  print(i)"
      ],
      "metadata": {
        "colab": {
          "base_uri": "https://localhost:8080/"
        },
        "id": "NOkIz2OlawHI",
        "outputId": "f7d90a48-3e27-455c-fe6d-aaf7d85f9b36"
      },
      "execution_count": null,
      "outputs": [
        {
          "output_type": "stream",
          "name": "stdout",
          "text": [
            "0\n",
            "1\n",
            "2\n",
            "3\n",
            "4\n"
          ]
        }
      ]
    },
    {
      "cell_type": "markdown",
      "source": [
        "**Funtion or Method**"
      ],
      "metadata": {
        "id": "8K8N1IEQcxY1"
      }
    },
    {
      "cell_type": "code",
      "source": [
        "# fucntion\n",
        "# def- function definition - function name should be good name\n",
        "# fucntion used to same time and make code be reusable\n",
        "def isAdd(a, b):\n",
        "  print(a+b)\n",
        "\n",
        "isAdd(4,5)\n",
        "\n",
        "\n",
        "def WhoIam(name):\n",
        "  print(f\"I am {name}\")\n",
        "\n",
        "WhoIam(\"Rishabh Kushwaha\")\n",
        "\n",
        "# *Variable : act as a list\n",
        "def classStudent(*student):\n",
        "\n",
        "  print(f\"student name is {student[1]}\")\n",
        "\n",
        "\n",
        "classStudent(\"Rishabh\", \"radhika\",\"rohit\",\"kanika\",\"vaishnavi\")"
      ],
      "metadata": {
        "colab": {
          "base_uri": "https://localhost:8080/"
        },
        "id": "hMtEhJuTc_Hn",
        "outputId": "eddb0c5d-4d14-4788-bdfb-4a710371a625"
      },
      "execution_count": 11,
      "outputs": [
        {
          "output_type": "stream",
          "name": "stdout",
          "text": [
            "9\n",
            "I am Rishabh Kushwaha\n",
            "student name is radhika\n"
          ]
        }
      ]
    },
    {
      "cell_type": "code",
      "source": [
        "def Country(country=\"India\"): # default value india\n",
        "  print(f\" I am From {country}\")\n",
        "\n",
        "Country() ## if value not pass- default value taken\n",
        "Country(\"Russia\")"
      ],
      "metadata": {
        "colab": {
          "base_uri": "https://localhost:8080/"
        },
        "id": "Mqr43dqGfXmj",
        "outputId": "510bac2e-8ea4-47c0-9036-6854bab79f1e"
      },
      "execution_count": 14,
      "outputs": [
        {
          "output_type": "stream",
          "name": "stdout",
          "text": [
            " I am From India\n",
            " I am From Russia\n"
          ]
        }
      ]
    },
    {
      "cell_type": "code",
      "source": [
        "def CheckAge(age):\n",
        "  if age>=18:\n",
        "    return 'Yes'\n",
        "  else:\n",
        "    return 'NO'\n",
        "\n",
        "print(CheckAge(54))"
      ],
      "metadata": {
        "colab": {
          "base_uri": "https://localhost:8080/"
        },
        "id": "CicZibu7gfUT",
        "outputId": "c97a6406-deee-44a0-a1fe-ea551f7a77ba"
      },
      "execution_count": 17,
      "outputs": [
        {
          "output_type": "stream",
          "name": "stdout",
          "text": [
            "Yes\n"
          ]
        }
      ]
    },
    {
      "cell_type": "code",
      "source": [
        "# Function and Loop statement\n",
        "def showAllPrine(num):\n",
        "  isPrime=False\n",
        "  if(num==1 or num==2):\n",
        "    print(\"prime\", num)\n",
        "    return\n",
        "\n",
        "  for i in range(2,num): # start point - 2 , ending point 10 but including , End point include.\n",
        "    if num%i!=0:\n",
        "      isPrime=True\n",
        "    else:\n",
        "      isPrime=False\n",
        "      break\n",
        "  if isPrime:\n",
        "    print(\"Prime\",num)\n",
        "\n",
        "for i in range(3+1):\n",
        "  showAllPrine(i)"
      ],
      "metadata": {
        "colab": {
          "base_uri": "https://localhost:8080/"
        },
        "id": "hEfiBh75hLEV",
        "outputId": "773732b3-bd0c-4f35-f1af-c2b824f54cfd"
      },
      "execution_count": 38,
      "outputs": [
        {
          "output_type": "stream",
          "name": "stdout",
          "text": [
            "prime 1\n",
            "prime 2\n",
            "Prime 3\n"
          ]
        }
      ]
    },
    {
      "cell_type": "markdown",
      "source": [
        "Different between Print and Return"
      ],
      "metadata": {
        "id": "2O2OTuXQu9tD"
      }
    },
    {
      "cell_type": "code",
      "source": [
        "# print - to display\n",
        "# keep - back the value"
      ],
      "metadata": {
        "id": "EA5eQhyLvBs5"
      },
      "execution_count": null,
      "outputs": []
    },
    {
      "cell_type": "code",
      "source": [
        "# Armstrant number: num and digit be equal\n",
        "def Armstrant(num):\n",
        "  sum=0\n",
        "\n",
        "  size=len(str(num))\n",
        "\n",
        "  while(num>0):\n",
        "    res=num%10 # moduler\n",
        "\n",
        "    sum+=res**size # power\n",
        "    num=num//10  # dividi return int data type\n",
        "  return sum\n",
        "\n",
        "print(\"Armstrant \", Armstrant(153))"
      ],
      "metadata": {
        "id": "z-4Ks3i3va4L",
        "outputId": "d59fe2f6-f576-4ee6-e052-1f0667c2c122",
        "colab": {
          "base_uri": "https://localhost:8080/"
        }
      },
      "execution_count": 55,
      "outputs": [
        {
          "output_type": "stream",
          "name": "stdout",
          "text": [
            "Armstrant  153\n"
          ]
        }
      ]
    },
    {
      "cell_type": "markdown",
      "source": [
        "Multiple return value"
      ],
      "metadata": {
        "id": "gj3zw9FQz4Ue"
      }
    },
    {
      "cell_type": "code",
      "source": [
        "# multiple value return in function\n",
        "\n",
        "def multipleReturn(a,b):\n",
        "  sum=a+b\n",
        "  product=a*b\n",
        "  return sum, product\n",
        "\n",
        "x,y=multipleReturn(4,9)\n",
        "print(x)\n",
        "print(y)"
      ],
      "metadata": {
        "id": "Fw3-mevNz8ng",
        "outputId": "276740d7-b2c4-4667-8ffb-23875564ea57",
        "colab": {
          "base_uri": "https://localhost:8080/"
        }
      },
      "execution_count": 56,
      "outputs": [
        {
          "output_type": "stream",
          "name": "stdout",
          "text": [
            "13\n",
            "36\n"
          ]
        }
      ]
    },
    {
      "cell_type": "markdown",
      "source": [
        "Nested Function or Method\n"
      ],
      "metadata": {
        "id": "dH2QzSQo01dJ"
      }
    },
    {
      "cell_type": "code",
      "source": [
        "# multiple function or nested function\n",
        "\n",
        "def Calculater(x,y):\n",
        "  def add(a,b):\n",
        "    return a+b\n",
        "  def substract(a,b):\n",
        "    return a-b\n",
        "  return add(x,y), substract(x,y)\n",
        "\n",
        "print(Calculater(4,5))\n",
        "a,b=Calculater(4,5)\n",
        "print(a)\n",
        "print(b)"
      ],
      "metadata": {
        "id": "J5Maz7Z004Kj",
        "outputId": "a16a5757-ba74-455c-f628-54eabb6a148d",
        "colab": {
          "base_uri": "https://localhost:8080/"
        }
      },
      "execution_count": 59,
      "outputs": [
        {
          "output_type": "stream",
          "name": "stdout",
          "text": [
            "(9, -1)\n",
            "9\n",
            "-1\n"
          ]
        }
      ]
    },
    {
      "cell_type": "markdown",
      "source": [
        "*Differnet between* : **kwargs and *args\n",
        "<br>\n",
        "*args (Non-Keyword Arguments): It is used to send a non-keyworded, variable-length argument list to the function. It collects these arguments into a tuple.\n",
        "Python\n",
        "\n",
        "    def my_function(*args):\n",
        "        for arg in args:\n",
        "            print(arg)\n",
        "\n",
        "    my_function(1, 2, 3)  # Output: 1 2 3\n",
        "****kwargs (Keyword Arguments):** It is used to send a keyworded, variable-length argument list to the function. It collects these arguments into a dictionary.\n",
        "Python\n",
        "\n",
        "    def my_function(**kwargs):\n",
        "        for key, value in kwargs.items():\n",
        "            print(f\"{key}: {value}\")\n",
        "\n",
        "    my_function(a=1, b=2, c=3)  # Output: a: 1 b: 2 c: 3\n",
        "**Key Differences:**\n",
        "*args handles variable-length non-keyworded arguments, while **kwargs handles variable-length keyworded arguments.\n",
        "*args collects arguments into a tuple, while **kwargs collects them into a dictionary.\n",
        "In a function definition, if both *args and **kwargs are used, *args must come before **kwargs.\n",
        "<br>\n",
        "**Use Cases:**\n",
        "*args is useful when the number of arguments is unknown or can vary.\n",
        "**kwargs is useful for passing named parameters or options to a function. It enhances function flexibility and readability, especially when dealing with numerous configuration options or when extending functionality without altering the function's signature."
      ],
      "metadata": {
        "id": "fWA-knmu2ZpS"
      }
    }
  ]
}