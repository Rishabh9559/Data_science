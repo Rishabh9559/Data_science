{
  "nbformat": 4,
  "nbformat_minor": 0,
  "metadata": {
    "colab": {
      "provenance": [],
      "authorship_tag": "ABX9TyNamlu8a3e0zzbXuFvGLZLl",
      "include_colab_link": true
    },
    "kernelspec": {
      "name": "python3",
      "display_name": "Python 3"
    },
    "language_info": {
      "name": "python"
    }
  },
  "cells": [
    {
      "cell_type": "markdown",
      "metadata": {
        "id": "view-in-github",
        "colab_type": "text"
      },
      "source": [
        "<a href=\"https://colab.research.google.com/github/Rishabh9559/Data_science/blob/main/Phase%201%20Statistical%20Foundations%20for%20Data%20Science/Descriptive_Statistices.ipynb\" target=\"_parent\"><img src=\"https://colab.research.google.com/assets/colab-badge.svg\" alt=\"Open In Colab\"/></a>"
      ]
    },
    {
      "cell_type": "markdown",
      "source": [
        "**Sampling Techniques**"
      ],
      "metadata": {
        "id": "zZg-Z5Q0nGcm"
      }
    },
    {
      "cell_type": "markdown",
      "source": [
        "**1. Random Sampling** :  seleted random samples\n",
        "\n",
        "Also known as probability sampling, is a method where each member of a population has an equal and independent chance of being selected for a sample"
      ],
      "metadata": {
        "id": "VcGjfENVnMCK"
      }
    },
    {
      "cell_type": "markdown",
      "source": [
        "**2. Stratified Sampling : -**\n",
        "\n",
        "Stratified sampling involves dividing a population into homogeneous subgroups called strata. These strata are based on specific characteristics like age, gender, income, or education level."
      ],
      "metadata": {
        "id": "R_DUM9oWnhEH"
      }
    },
    {
      "cell_type": "markdown",
      "source": [
        "**3. Cluster Sampling:-**  \n",
        "\n",
        "is a probability sampling technique where a population is divided into groups (clusters), and then a random selection of these clusters is chosen to be included in the sample"
      ],
      "metadata": {
        "id": "2USn4MM1ousG"
      }
    },
    {
      "cell_type": "markdown",
      "source": [
        "| Sampling Type       | Key Difference                                                             |\n",
        "| ------------------- | -------------------------------------------------------------------------- |\n",
        "| Random Sampling     | Selects individuals randomly from the whole population.                    |\n",
        "| Stratified Sampling | Divides population into subgroups (strata) and samples randomly from each. |\n",
        "| Cluster Sampling    | Divides population into clusters and randomly selects entire clusters.     |\n"
      ],
      "metadata": {
        "id": "bDOh1bFKqwvQ"
      }
    },
    {
      "cell_type": "markdown",
      "source": [],
      "metadata": {
        "id": "c44j3dRSsL1X"
      }
    }
  ]
}