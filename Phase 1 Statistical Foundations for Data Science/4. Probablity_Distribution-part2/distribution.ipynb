{
  "nbformat": 4,
  "nbformat_minor": 0,
  "metadata": {
    "colab": {
      "provenance": [],
      "authorship_tag": "ABX9TyMBVBAYWvspXxwg+hEv1UFI",
      "include_colab_link": true
    },
    "kernelspec": {
      "name": "python3",
      "display_name": "Python 3"
    },
    "language_info": {
      "name": "python"
    }
  },
  "cells": [
    {
      "cell_type": "markdown",
      "metadata": {
        "id": "view-in-github",
        "colab_type": "text"
      },
      "source": [
        "<a href=\"https://colab.research.google.com/github/Rishabh9559/Data_science/blob/main/Phase%201%20Statistical%20Foundations%20for%20Data%20Science/4.%20Probablity_Distribution-part2/distribution.ipynb\" target=\"_parent\"><img src=\"https://colab.research.google.com/assets/colab-badge.svg\" alt=\"Open In Colab\"/></a>"
      ]
    },
    {
      "cell_type": "markdown",
      "source": [
        "Distribution"
      ],
      "metadata": {
        "id": "CVE1S_YELb5P"
      }
    },
    {
      "cell_type": "markdown",
      "source": [
        "why we used n-1 in standert deviation and variance [link text](https://www.youtube.com/watch?v=pLH1QA4F9uE)\n"
      ],
      "metadata": {
        "id": "6t_kCW-iLeIQ"
      }
    },
    {
      "cell_type": "markdown",
      "source": [
        "We use (n- 1) in the denominator to provide an unbiased estimate of the population variance and standard deviation from a sample, correcting for the underestimation bias caused by using the sample mean."
      ],
      "metadata": {
        "id": "9h2CCFcRNe3f"
      }
    },
    {
      "cell_type": "code",
      "source": [],
      "metadata": {
        "id": "J5WoqOKoM6fq"
      },
      "execution_count": null,
      "outputs": []
    }
  ]
}