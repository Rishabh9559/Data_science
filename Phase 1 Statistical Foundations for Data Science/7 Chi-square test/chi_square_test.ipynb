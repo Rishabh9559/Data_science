{
  "nbformat": 4,
  "nbformat_minor": 0,
  "metadata": {
    "colab": {
      "provenance": [],
      "authorship_tag": "ABX9TyOvnS5p5iwFeL+ib6+gROi4",
      "include_colab_link": true
    },
    "kernelspec": {
      "name": "python3",
      "display_name": "Python 3"
    },
    "language_info": {
      "name": "python"
    }
  },
  "cells": [
    {
      "cell_type": "markdown",
      "metadata": {
        "id": "view-in-github",
        "colab_type": "text"
      },
      "source": [
        "<a href=\"https://colab.research.google.com/github/Rishabh9559/Data_science/blob/main/Phase%201%20Statistical%20Foundations%20for%20Data%20Science/7%20Chi-square%20test/chi_square_test.ipynb\" target=\"_parent\"><img src=\"https://colab.research.google.com/assets/colab-badge.svg\" alt=\"Open In Colab\"/></a>"
      ]
    },
    {
      "cell_type": "markdown",
      "source": [
        "### ✅ What is the **Chi-Square Test (χ² Test)?**\n",
        "\n",
        "The **Chi-Square test** is a **non-parametric** statistical test used to determine whether there's a **significant association** between **categorical variables**.\n",
        "\n",
        "---\n",
        "\n",
        "## 🔍 Types of Chi-Square Tests:\n",
        "\n",
        "| Type                        | Purpose                                                  | Example                                 |\n",
        "| --------------------------- | -------------------------------------------------------- | --------------------------------------- |\n",
        "| **1. Goodness of Fit Test** | Checks if data fits a **specific expected distribution** | Is a die fair?                          |\n",
        "| **2. Test of Independence** | Tests if **two categorical variables** are related       | Is gender related to voting preference? |\n",
        "\n",
        "---\n",
        "\n",
        "## 📐 **Formula (Both Tests Use the Same Core Formula):**\n",
        "\n",
        "$$\n",
        "\\chi^2 = \\sum \\frac{(O_i - E_i)^2}{E_i}\n",
        "$$\n",
        "\n",
        "* $O_i$: Observed frequency\n",
        "* $E_i$: Expected frequency\n",
        "\n",
        "---\n",
        "\n",
        "## 🔢 1. **Chi-Square Goodness of Fit Test**\n",
        "\n",
        "### 🎯 Use Case:\n",
        "\n",
        "Does the observed frequency match the **expected (theoretical) distribution**?\n",
        "\n",
        "---\n",
        "\n",
        "### 📌 Example:\n",
        "\n",
        "You roll a die 60 times. Are the outcomes (1–6) **equally likely**?\n",
        "\n",
        "| Face | Observed (O) | Expected (E = 60/6 = 10) |\n",
        "| ---- | ------------ | ------------------------ |\n",
        "| 1    | 8            | 10                       |\n",
        "| 2    | 12           | 10                       |\n",
        "| …    | …            | …                        |\n",
        "\n",
        "Apply formula and compare with chi-square critical value or p-value.\n",
        "\n",
        "---\n",
        "\n",
        "## 🔢 2. **Chi-Square Test of Independence**\n",
        "\n",
        "### 🎯 Use Case:\n",
        "\n",
        "Are **two categorical variables** related?\n",
        "\n",
        "---\n",
        "\n",
        "### 📌 Example:\n",
        "\n",
        "Do **gender** and **product preference** have a relationship?\n",
        "\n",
        "|        | Product A | Product B | Total |\n",
        "| ------ | --------- | --------- | ----- |\n",
        "| Male   | 20        | 30        | 50    |\n",
        "| Female | 30        | 20        | 50    |\n",
        "| Total  | 50        | 50        | 100   |\n",
        "\n",
        "1. Compute expected frequencies:\n",
        "\n",
        "$$\n",
        "E_{ij} = \\frac{(\\text{Row Total}) \\cdot (\\text{Column Total})}{\\text{Grand Total}}\n",
        "$$\n",
        "\n",
        "2. Use $\\chi^2 = \\sum \\frac{(O - E)^2}{E}$\n",
        "\n",
        "3. Compare with chi-square distribution with:\n",
        "\n",
        "   $$\n",
        "   \\text{df} = (r - 1)(c - 1)\n",
        "   $$\n",
        "\n",
        "---\n",
        "\n",
        "## 🧠 Hypotheses:\n",
        "\n",
        "| Test                 | Null Hypothesis (H₀)               | Alternative Hypothesis (H₁)          |\n",
        "| -------------------- | ---------------------------------- | ------------------------------------ |\n",
        "| Goodness of Fit      | Data follows expected distribution | Data does not follow expected        |\n",
        "| Test of Independence | Variables are independent          | Variables are dependent (associated) |\n",
        "\n",
        "---\n",
        "\n",
        "## 📌 Requirements:\n",
        "\n",
        "* Data must be **counts**, not percentages or means.\n",
        "* **Expected frequencies** should be ≥ 5 in most cells.\n",
        "* Observations must be **independent**.\n",
        "\n",
        "---\n",
        "\n"
      ],
      "metadata": {
        "id": "mgwtXn6ZlWKA"
      }
    },
    {
      "cell_type": "code",
      "execution_count": null,
      "metadata": {
        "id": "cm1oUlZfa-cr",
        "outputId": "237d54d6-7ecc-4427-91ab-f5ac7a18d5dc",
        "colab": {
          "base_uri": "https://localhost:8080/"
        }
      },
      "outputs": [
        {
          "output_type": "stream",
          "name": "stdout",
          "text": [
            "Chi-square: 3.24\n",
            "Degrees of Freedom: 1\n",
            "P-value: 0.07186063822585143\n",
            "Expected Frequencies:\n",
            " [[25. 25.]\n",
            " [25. 25.]]\n"
          ]
        }
      ],
      "source": [
        "import scipy.stats as stats\n",
        "import pandas as pd\n",
        "\n",
        "# Contingency table\n",
        "data = [[20, 30],\n",
        "        [30, 20]]\n",
        "\n",
        "chi2, p, dof, expected = stats.chi2_contingency(data)\n",
        "\n",
        "print(\"Chi-square:\", chi2)\n",
        "print(\"Degrees of Freedom:\", dof)\n",
        "print(\"P-value:\", p)\n",
        "print(\"Expected Frequencies:\\n\", expected)"
      ]
    },
    {
      "cell_type": "code",
      "source": [
        "import numpy as np\n",
        "import scipy.stats as stats\n",
        "\n",
        "observed_data = np.array([[50, 30, 20],\n",
        "                         [30, 40, 30],\n",
        "                         [20, 30, 50]])\n",
        "\n",
        "# Perform the chi-square test\n",
        "chi2_stats, p_value, df, expected = stats.chi2_contingency(observed_data)\n",
        "\n",
        "chi2_stats, p_value, df, expected\n",
        "\n"
      ],
      "metadata": {
        "id": "ivp-84vcrA-5",
        "outputId": "714feafe-1d7c-4091-dc42-6e41ca650102",
        "colab": {
          "base_uri": "https://localhost:8080/"
        }
      },
      "execution_count": null,
      "outputs": [
        {
          "output_type": "execute_result",
          "data": {
            "text/plain": [
              "(np.float64(30.0),\n",
              " np.float64(4.894437128029217e-06),\n",
              " 4,\n",
              " array([[33.33333333, 33.33333333, 33.33333333],\n",
              "        [33.33333333, 33.33333333, 33.33333333],\n",
              "        [33.33333333, 33.33333333, 33.33333333]]))"
            ]
          },
          "metadata": {},
          "execution_count": 2
        }
      ]
    },
    {
      "cell_type": "code",
      "source": [
        "alpha = 0.05\n",
        "\n",
        "if p_value < alpha:\n",
        "  print('Reject the null hypothesis meaning different age groups have different preferences of the products')\n",
        "else:\n",
        "  print('Fail to reject the null hypothesis meaning different age groups have similar preferences of the products')"
      ],
      "metadata": {
        "id": "bd-prFQWrFXA",
        "outputId": "77fdc1f9-a152-41dd-c855-0e2d8ec7fcc7",
        "colab": {
          "base_uri": "https://localhost:8080/"
        }
      },
      "execution_count": null,
      "outputs": [
        {
          "output_type": "stream",
          "name": "stdout",
          "text": [
            "Reject the null hypothesis meaning different age groups have different preferences of the products\n"
          ]
        }
      ]
    },
    {
      "cell_type": "markdown",
      "source": [
        "## **A/B Testing**"
      ],
      "metadata": {
        "id": "3KgELIHzWpEZ"
      }
    },
    {
      "cell_type": "markdown",
      "source": [
        "**A/B testing**, also known as **split testing**, is a method of comparing two versions of a webpage, app, or other digital asset to see which performs better based on a specific metric.\n",
        "\n",
        "It involves showing different users different versions of an element (like a button color or headline) and tracking which version leads to a higher conversion rate or other desired outcome."
      ],
      "metadata": {
        "id": "4NYHfXPfWxoB"
      }
    },
    {
      "cell_type": "markdown",
      "source": [
        "example\n",
        "\n",
        "- website\n",
        "- email marketing\n",
        "- contant marketing\n",
        "- Ads\n",
        "- click rates on header or ads etc"
      ],
      "metadata": {
        "id": "KeV9ImH1W9s1"
      }
    },
    {
      "cell_type": "markdown",
      "source": [],
      "metadata": {
        "id": "SPpZ2wCJXcz9"
      }
    }
  ]
}