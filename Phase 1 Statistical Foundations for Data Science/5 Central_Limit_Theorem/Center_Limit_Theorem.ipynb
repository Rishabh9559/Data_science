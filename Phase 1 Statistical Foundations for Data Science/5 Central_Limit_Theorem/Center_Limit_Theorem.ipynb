{
  "nbformat": 4,
  "nbformat_minor": 0,
  "metadata": {
    "colab": {
      "provenance": [],
      "authorship_tag": "ABX9TyMJLRAtCWiz/AIPpm6Cp7Et",
      "include_colab_link": true
    },
    "kernelspec": {
      "name": "python3",
      "display_name": "Python 3"
    },
    "language_info": {
      "name": "python"
    }
  },
  "cells": [
    {
      "cell_type": "markdown",
      "metadata": {
        "id": "view-in-github",
        "colab_type": "text"
      },
      "source": [
        "<a href=\"https://colab.research.google.com/github/Rishabh9559/Data_science/blob/main/Phase%201%20Statistical%20Foundations%20for%20Data%20Science/5%20Central_Limit_Theorem/Center_Limit_Theorem.ipynb\" target=\"_parent\"><img src=\"https://colab.research.google.com/assets/colab-badge.svg\" alt=\"Open In Colab\"/></a>"
      ]
    },
    {
      "cell_type": "markdown",
      "source": [
        "**The Central Limit Theorem (CLT)**"
      ],
      "metadata": {
        "id": "_u1_J5qea7aO"
      }
    },
    {
      "cell_type": "markdown",
      "source": [
        "The Central Limit Theorem (CLT) states that the distribution of sample means will approximate a normal distribution, regardless of the original population's distribution, as long as the sample size is sufficiently large. This is a fundamental concept in statistics, widely used for inference and analysis"
      ],
      "metadata": {
        "id": "pCPMcZbUbLCJ"
      }
    },
    {
      "cell_type": "markdown",
      "source": [],
      "metadata": {
        "id": "0TPFp-y1bUdc"
      }
    }
  ]
}