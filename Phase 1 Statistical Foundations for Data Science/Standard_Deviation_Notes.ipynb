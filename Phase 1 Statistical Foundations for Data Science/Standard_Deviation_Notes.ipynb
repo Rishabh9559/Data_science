{
  "nbformat": 4,
  "nbformat_minor": 0,
  "metadata": {
    "colab": {
      "provenance": [],
      "authorship_tag": "ABX9TyMfqAg6XuqB7dtn2jkdqoc8",
      "include_colab_link": true
    },
    "kernelspec": {
      "name": "python3",
      "display_name": "Python 3"
    },
    "language_info": {
      "name": "python"
    }
  },
  "cells": [
    {
      "cell_type": "markdown",
      "metadata": {
        "id": "view-in-github",
        "colab_type": "text"
      },
      "source": [
        "<a href=\"https://colab.research.google.com/github/Rishabh9559/Data_science/blob/main/Phase%201%20Statistical%20Foundations%20for%20Data%20Science/Standard_Deviation_Notes.ipynb\" target=\"_parent\"><img src=\"https://colab.research.google.com/assets/colab-badge.svg\" alt=\"Open In Colab\"/></a>"
      ]
    },
    {
      "cell_type": "markdown",
      "source": [
        "## **Differences between standard deviation types**—**sample**, **population**, and just **“standard deviation”** (general term)—is essential in statistics.\n",
        "\n",
        "---\n",
        "\n",
        "## 📊 **What is Standard Deviation?**\n",
        "\n",
        "> Standard deviation measures the **spread** or **dispersion** of a dataset:\n",
        "> **How far the data points deviate from the mean**.\n",
        "\n",
        "---\n",
        "\n",
        "## 🔍 Types of Standard Deviation\n",
        "\n",
        "| Term                                  | Formula                                                       | Used When                                 |\n",
        "| ------------------------------------- | ------------------------------------------------------------- | ----------------------------------------- |\n",
        "| **Population Standard Deviation (σ)** | $\\sigma = \\sqrt{\\frac{1}{N} \\sum_{i=1}^{N} (x_i - \\mu)^2}$    | You have data for **entire population**   |\n",
        "| **Sample Standard Deviation (s)**     | $s = \\sqrt{\\frac{1}{n - 1} \\sum_{i=1}^{n} (x_i - \\bar{x})^2}$ | You have data from a **sample**           |\n",
        "| **\"Standard Deviation\"**              | Generic term — could mean either, depending on context        | Be careful — clarify population or sample |\n",
        "\n",
        "---\n",
        "\n",
        "### 📘 Key Differences\n",
        "\n",
        "| Feature            | Population (σ)                   | Sample (s)                                |\n",
        "| ------------------ | -------------------------------- | ----------------------------------------- |\n",
        "| Symbol             | σ (Greek sigma)                  | s                                         |\n",
        "| Divisor in formula | Divide by **N** (total elements) | Divide by **n − 1** (degrees of freedom)  |\n",
        "| Used when          | You have **full data**           | You only have a **subset (sample)**       |\n",
        "| Bias correction    | Not needed                       | **n−1** corrects **underestimation bias** |\n",
        "\n",
        "---\n",
        "\n",
        "### 🎯 Why Use `n−1` in Sample SD?\n",
        "\n",
        "Using **n** underestimates variability in small samples.\n",
        "Dividing by **n−1** instead of **n** makes the sample standard deviation an **unbiased estimator** of the population SD.\n",
        "\n",
        "---\n",
        "\n",
        "## 🔢 Example:\n",
        "\n",
        "Dataset: `x = [2, 4, 4, 4, 5, 5, 7, 9]`\n",
        "\n",
        "* $\\mu = 5$\n",
        "* $N = 8$\n",
        "\n",
        "### ✅ Population SD:\n",
        "\n",
        "$$\n",
        "\\sigma = \\sqrt{ \\frac{(2-5)^2 + (4-5)^2 + \\cdots + (9-5)^2}{8} } = \\sqrt{4} = 2\n",
        "$$\n",
        "\n",
        "### ✅ Sample SD:\n",
        "\n",
        "$$\n",
        "s = \\sqrt{ \\frac{(2-5)^2 + (4-5)^2 + \\cdots + (9-5)^2}{7} } = \\sqrt{4.571} ≈ 2.14\n",
        "$$\n",
        "\n",
        "---\n",
        "\n",
        "## 🔁 Summary Table:\n",
        "\n",
        "| Concept         | Population Standard Deviation | Sample Standard Deviation |\n",
        "| --------------- | ----------------------------- | ------------------------- |\n",
        "| Symbol          | σ                             | s                         |\n",
        "| Denominator     | N                             | n - 1                     |\n",
        "| Use case        | Whole population              | Sample from population    |\n",
        "| Bias-corrected? | No (true value)               | Yes                       |\n",
        "\n",
        "---\n",
        "\n",
        "Would you like to see how to compute both in **Python or Java**?\n"
      ],
      "metadata": {
        "id": "uNJ5nUQ-5NZW"
      }
    },
    {
      "cell_type": "code",
      "source": [],
      "metadata": {
        "id": "TYLhJhyY5TlS"
      },
      "execution_count": null,
      "outputs": []
    }
  ]
}