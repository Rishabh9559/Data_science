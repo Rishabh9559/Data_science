{
  "nbformat": 4,
  "nbformat_minor": 0,
  "metadata": {
    "colab": {
      "provenance": [],
      "authorship_tag": "ABX9TyMZ7f33cEdmWe9kZSC1ix/j",
      "include_colab_link": true
    },
    "kernelspec": {
      "name": "python3",
      "display_name": "Python 3"
    },
    "language_info": {
      "name": "python"
    }
  },
  "cells": [
    {
      "cell_type": "markdown",
      "metadata": {
        "id": "view-in-github",
        "colab_type": "text"
      },
      "source": [
        "<a href=\"https://colab.research.google.com/github/Rishabh9559/Data_science/blob/main/Phase%201%20Statistical%20Foundations%20for%20Data%20Science/Mean_Notes.ipynb\" target=\"_parent\"><img src=\"https://colab.research.google.com/assets/colab-badge.svg\" alt=\"Open In Colab\"/></a>"
      ]
    },
    {
      "cell_type": "markdown",
      "source": [
        "\n",
        "## 🧠 What is **Mean** in General?\n",
        "\n",
        "The **mean** (or average) is the central value of a dataset.\n",
        "\n",
        "$$\n",
        "\\text{Mean} = \\frac{\\text{Sum of all values}}{\\text{Number of values}}\n",
        "$$\n",
        "\n",
        "But depending on **what data you're using**, it can be a **sample mean** or **population mean**.\n",
        "\n",
        "---\n",
        "\n",
        "## 📘 1. **Population Mean (μ)**\n",
        "\n",
        "### ➕ Used When:\n",
        "\n",
        "You have **data for the entire population** (all possible members).\n",
        "\n",
        "### ✅ Formula:\n",
        "\n",
        "$$\n",
        "\\mu = \\frac{1}{N} \\sum_{i=1}^{N} x_i\n",
        "$$\n",
        "\n",
        "* $\\mu$: population mean\n",
        "* $N$: number of items in population\n",
        "* $x_i$: individual values in the population\n",
        "\n",
        "---\n",
        "\n",
        "## 📘 2. **Sample Mean (x̄)**\n",
        "\n",
        "### ➕ Used When:\n",
        "\n",
        "You have **a subset (sample)** of the population.\n",
        "\n",
        "### ✅ Formula:\n",
        "\n",
        "$$\n",
        "\\bar{x} = \\frac{1}{n} \\sum_{i=1}^{n} x_i\n",
        "$$\n",
        "\n",
        "* $\\bar{x}$: sample mean\n",
        "* $n$: number of items in the sample\n",
        "* $x_i$: values in the sample\n",
        "\n",
        "---\n",
        "\n",
        "## 📌 3. **Just \"Mean\"**\n",
        "\n",
        "When someone says just \"**mean**\", they often mean:\n",
        "\n",
        "* The **sample mean** (in practice), unless the **full population** is being analyzed.\n",
        "* Always clarify the context: are we summarizing a **sample** or the **entire population**?\n",
        "\n",
        "---\n",
        "\n",
        "## 📊 Real-World Example:\n",
        "\n",
        "Imagine the heights of all students in a college:\n",
        "\n",
        "* **Population Mean (μ)**: The true average height of **all** students (say, 5,000 students).\n",
        "* **Sample Mean (x̄)**: The average height of a **randomly selected sample** of 100 students.\n",
        "\n",
        "You use $\\bar{x}$ (sample mean) to **estimate** $\\mu$ (population mean).\n",
        "\n",
        "---\n"
      ],
      "metadata": {
        "id": "uNJ5nUQ-5NZW"
      }
    },
    {
      "cell_type": "code",
      "source": [],
      "metadata": {
        "id": "TYLhJhyY5TlS"
      },
      "execution_count": null,
      "outputs": []
    }
  ]
}