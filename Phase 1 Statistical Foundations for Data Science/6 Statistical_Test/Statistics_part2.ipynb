{
  "nbformat": 4,
  "nbformat_minor": 0,
  "metadata": {
    "colab": {
      "provenance": [],
      "authorship_tag": "ABX9TyPeFIvjFf7LtLaslhbhY1om",
      "include_colab_link": true
    },
    "kernelspec": {
      "name": "python3",
      "display_name": "Python 3"
    },
    "language_info": {
      "name": "python"
    }
  },
  "cells": [
    {
      "cell_type": "markdown",
      "metadata": {
        "id": "view-in-github",
        "colab_type": "text"
      },
      "source": [
        "<a href=\"https://colab.research.google.com/github/Rishabh9559/Data_science/blob/main/Phase%201%20Statistical%20Foundations%20for%20Data%20Science/6%20Statistical_Test/Statistics_part2.ipynb\" target=\"_parent\"><img src=\"https://colab.research.google.com/assets/colab-badge.svg\" alt=\"Open In Colab\"/></a>"
      ]
    },
    {
      "cell_type": "markdown",
      "source": [
        "\n",
        "\n",
        "> **Statistical Test part 2**\n",
        "\n"
      ],
      "metadata": {
        "id": "48DoVa7wqp73"
      }
    },
    {
      "cell_type": "markdown",
      "source": [
        "### 📊 What is a **T-test**?\n",
        "\n",
        "A **T-test** is a statistical test used to **compare the means** of two groups and determine whether they are **significantly different** from each other.\n",
        "\n",
        "It's used when:\n",
        "\n",
        "* You're comparing **sample means**.\n",
        "* The **sample size is small** (typically n < 30).\n",
        "* The population **standard deviation is unknown**.\n",
        "\n",
        "---\n",
        "\n",
        "### 🔍 **Why use a T-test?**\n",
        "\n",
        "To answer questions like:\n",
        "\n",
        "> Is the average score of Group A **different from**, **greater than**, or **less than** that of Group B?\n",
        "\n",
        "---\n",
        "\n",
        "## 📂 Types of T-tests:\n",
        "\n",
        "| Type                                   | Use Case                                                 |\n",
        "| -------------------------------------- | -------------------------------------------------------- |\n",
        "| **1. One-sample T-test**               | Compare the sample mean to a known population mean       |\n",
        "| **2. Two-sample T-test (Independent)** | Compare the means of two **independent** groups          |\n",
        "| **3. Paired T-test (Dependent)**       | Compare means from the **same group at different times** |\n",
        "\n",
        "---\n",
        "\n",
        "### 📘 Examples:\n",
        "\n",
        "#### 1. **One-sample T-test**\n",
        "\n",
        "> Is the average test score of a class different from 70?\n",
        "\n",
        "* H₀: µ = 70\n",
        "* H₁: µ ≠ 70\n",
        "\n",
        "---\n",
        "\n",
        "#### 2. **Two-sample T-test (Independent)**\n",
        "\n",
        "> Compare test scores of **Group A vs Group B** (e.g., boys vs girls)\n",
        "\n",
        "* H₀: µ₁ = µ₂\n",
        "* H₁: µ₁ ≠ µ₂\n",
        "\n",
        "---\n",
        "\n",
        "#### 3. **Paired T-test (Dependent)**\n",
        "\n",
        "> Compare **before and after** scores of the **same students** after a training program\n",
        "\n",
        "* H₀: µ₁ = µ₂\n",
        "* H₁: µ₁ ≠ µ₂\n",
        "\n",
        "---\n",
        "\n",
        "## 🧮 Formula for T-statistic (Two-Sample Example):\n",
        "\n",
        "$$\n",
        "t = \\frac{\\bar{X}_1 - \\bar{X}_2}{\\sqrt{\\frac{s_1^2}{n_1} + \\frac{s_2^2}{n_2}}}\n",
        "$$\n",
        "\n",
        "Where:\n",
        "\n",
        "* $\\bar{X}_1, \\bar{X}_2$ = sample means\n",
        "* $s_1, s_2$ = standard deviations\n",
        "* $n_1, n_2$ = sample sizes\n",
        "\n",
        "---\n",
        "\n",
        "## 🧠 Decision Making:\n",
        "\n",
        "* Calculate the **t-statistic**\n",
        "* Find the **p-value**\n",
        "* If **p-value < α (e.g., 0.05)** ⇒ **Reject H₀**\n",
        "\n",
        "---\n",
        "\n"
      ],
      "metadata": {
        "id": "IkUmNzFHrxA_"
      }
    },
    {
      "cell_type": "code",
      "execution_count": null,
      "metadata": {
        "id": "Rfe4-qWqpbYW"
      },
      "outputs": [],
      "source": []
    }
  ]
}