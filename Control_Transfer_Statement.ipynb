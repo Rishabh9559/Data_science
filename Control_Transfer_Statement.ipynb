{
  "nbformat": 4,
  "nbformat_minor": 0,
  "metadata": {
    "colab": {
      "provenance": [],
      "authorship_tag": "ABX9TyPXkKcAwHn7S3VsVQNLcFz2",
      "include_colab_link": true
    },
    "kernelspec": {
      "name": "python3",
      "display_name": "Python 3"
    },
    "language_info": {
      "name": "python"
    }
  },
  "cells": [
    {
      "cell_type": "markdown",
      "metadata": {
        "id": "view-in-github",
        "colab_type": "text"
      },
      "source": [
        "<a href=\"https://colab.research.google.com/github/Rishabh9559/Data_science/blob/main/Control_Transfer_Statement.ipynb\" target=\"_parent\"><img src=\"https://colab.research.google.com/assets/colab-badge.svg\" alt=\"Open In Colab\"/></a>"
      ]
    },
    {
      "cell_type": "markdown",
      "source": [
        "**Control Transfer Statement** <br>\n",
        "Break Statement"
      ],
      "metadata": {
        "id": "CiQYooXUUtTh"
      }
    },
    {
      "cell_type": "code",
      "execution_count": 1,
      "metadata": {
        "colab": {
          "base_uri": "https://localhost:8080/"
        },
        "id": "6CY8nQybUj-6",
        "outputId": "a68d2e88-14af-40f9-9ada-a01d37a8fbb0"
      },
      "outputs": [
        {
          "output_type": "stream",
          "name": "stdout",
          "text": [
            "0\n",
            "1\n",
            "2\n",
            "3\n",
            "4\n",
            "5\n"
          ]
        }
      ],
      "source": [
        "count=5\n",
        "for i in range(10):\n",
        "  print(i)\n",
        "  if i==count:\n",
        "    break  # Break statement - termenate the for loop"
      ]
    },
    {
      "cell_type": "markdown",
      "source": [
        "**Continue** - skipp the loop for this perticular condtion"
      ],
      "metadata": {
        "id": "L-aqxySzX6-O"
      }
    },
    {
      "cell_type": "code",
      "source": [
        "num=[1,2,3,4,5,6,7,8,9,10]\n",
        "for i in num:\n",
        "  if i%2==0:\n",
        "    continue  ## continue statement - skipp the loop for this perticular condtion\n",
        "  print(i)"
      ],
      "metadata": {
        "colab": {
          "base_uri": "https://localhost:8080/"
        },
        "id": "Z3TXcfkEX2Cg",
        "outputId": "8376bfb4-9150-4cb4-d268-bed0b67628e5"
      },
      "execution_count": 8,
      "outputs": [
        {
          "output_type": "stream",
          "name": "stdout",
          "text": [
            "1\n",
            "3\n",
            "5\n",
            "7\n",
            "9\n"
          ]
        }
      ]
    },
    {
      "cell_type": "code",
      "source": [
        "i=1\n",
        "while i<3:\n",
        "  j=0\n",
        "  while j<5:\n",
        "    j+=1\n",
        "    if j==3:\n",
        "      continue\n",
        "    print(j)\n",
        "  i+=1"
      ],
      "metadata": {
        "colab": {
          "base_uri": "https://localhost:8080/"
        },
        "id": "oG-e4j7CYqiP",
        "outputId": "6e737616-51eb-4aba-c885-05d88062808e"
      },
      "execution_count": 9,
      "outputs": [
        {
          "output_type": "stream",
          "name": "stdout",
          "text": [
            "1\n",
            "2\n",
            "4\n",
            "5\n",
            "1\n",
            "2\n",
            "4\n",
            "5\n"
          ]
        }
      ]
    },
    {
      "cell_type": "markdown",
      "source": [
        "**Pass** Statement : Empty function <br>\n",
        "pass a keyword where using no error showing. all function and other action working fine."
      ],
      "metadata": {
        "id": "XK1f7-snaqC7"
      }
    },
    {
      "cell_type": "code",
      "source": [
        "for i in range(5):\n",
        "  pass # is Empty function - in future we do some things but now we do nothing.\n",
        "  print(i)"
      ],
      "metadata": {
        "colab": {
          "base_uri": "https://localhost:8080/"
        },
        "id": "NOkIz2OlawHI",
        "outputId": "f7d90a48-3e27-455c-fe6d-aaf7d85f9b36"
      },
      "execution_count": 11,
      "outputs": [
        {
          "output_type": "stream",
          "name": "stdout",
          "text": [
            "0\n",
            "1\n",
            "2\n",
            "3\n",
            "4\n"
          ]
        }
      ]
    }
  ]
}