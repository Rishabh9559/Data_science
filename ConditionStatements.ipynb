{
  "nbformat": 4,
  "nbformat_minor": 0,
  "metadata": {
    "colab": {
      "provenance": [],
      "authorship_tag": "ABX9TyOT0g3CJnxpzY+UFAi/STSd",
      "include_colab_link": true
    },
    "kernelspec": {
      "name": "python3",
      "display_name": "Python 3"
    },
    "language_info": {
      "name": "python"
    }
  },
  "cells": [
    {
      "cell_type": "markdown",
      "metadata": {
        "id": "view-in-github",
        "colab_type": "text"
      },
      "source": [
        "<a href=\"https://colab.research.google.com/github/Rishabh9559/Data_science/blob/main/ConditionStatements.ipynb\" target=\"_parent\"><img src=\"https://colab.research.google.com/assets/colab-badge.svg\" alt=\"Open In Colab\"/></a>"
      ]
    },
    {
      "cell_type": "markdown",
      "source": [
        "**Condition Statement** : if and else  "
      ],
      "metadata": {
        "id": "co4IyLlm2tRL"
      }
    },
    {
      "cell_type": "code",
      "execution_count": 8,
      "metadata": {
        "colab": {
          "base_uri": "https://localhost:8080/"
        },
        "id": "bEfzLr5C2ODy",
        "outputId": "e665ddf4-b322-4976-8ffb-2186d080f836"
      },
      "outputs": [
        {
          "output_type": "stream",
          "name": "stdout",
          "text": [
            "5\n",
            "8\n",
            "yes\n"
          ]
        }
      ],
      "source": [
        "#\n",
        "a=input() # bydefault input takes string\n",
        "b=int(input())\n",
        "\n",
        "if(b%2==0):\n",
        "    print('yes')\n",
        "\n",
        "else:\n",
        "    print('no')\n"
      ]
    },
    {
      "cell_type": "code",
      "source": [
        "# function or method\n",
        "b=int(input())\n",
        "def isEven(b):\n",
        "  if(b%2==0):\n",
        "    return 'Yes'\n",
        "  else:\n",
        "    return 'No'\n",
        "\n",
        "print(isEven(b))"
      ],
      "metadata": {
        "colab": {
          "base_uri": "https://localhost:8080/"
        },
        "id": "Nn-9DgWf3xZA",
        "outputId": "82364ef5-d62a-4cab-d006-d881a50a355e"
      },
      "execution_count": 10,
      "outputs": [
        {
          "output_type": "stream",
          "name": "stdout",
          "text": [
            "1236547890\n",
            "Yes\n"
          ]
        }
      ]
    },
    {
      "cell_type": "markdown",
      "source": [
        "if(condition):<br>\n",
        "  return\n",
        "\n",
        "elif(condtion):<br>\n",
        "  return\n",
        "\n",
        "else:<br>\n",
        "  return\n"
      ],
      "metadata": {
        "id": "I9mxU7Aa4aJu"
      }
    },
    {
      "cell_type": "code",
      "source": [
        "# check the year is leap year\n",
        "year=int(input( ))\n",
        "\n",
        "def isLeapYear(year):\n",
        "  if(year%4==0 and year%100!=0 or year%400==0):\n",
        "    return True\n",
        "  else:\n",
        "    return False\n",
        "\n",
        "print(isLeapYear(year))\n"
      ],
      "metadata": {
        "colab": {
          "base_uri": "https://localhost:8080/"
        },
        "id": "kk5EVbfU4mKE",
        "outputId": "f9f19b3f-19d8-40b2-fa51-55c3265a34c9"
      },
      "execution_count": 11,
      "outputs": [
        {
          "output_type": "stream",
          "name": "stdout",
          "text": [
            "1998\n",
            "False\n"
          ]
        }
      ]
    },
    {
      "cell_type": "code",
      "source": [
        "# multiple if condtion\n",
        "a=int(input())\n",
        "b=int(input())\n",
        "c=int(input())\n",
        "\n",
        "if(a>b and b>c):\n",
        "  print(a,' is greater then b and c')\n",
        "elif(b>a and b>c):\n",
        "  print(b,' is greater then a and c')\n",
        "else:\n",
        "  print(c,' is greater then a and b')"
      ],
      "metadata": {
        "colab": {
          "base_uri": "https://localhost:8080/"
        },
        "id": "b1KT6G0B5jc5",
        "outputId": "ee914bb3-9d23-4710-8cf3-d1c68be72cc7"
      },
      "execution_count": 13,
      "outputs": [
        {
          "output_type": "stream",
          "name": "stdout",
          "text": [
            "5\n",
            "8\n",
            "9\n",
            "9  is greater then a and b\n"
          ]
        }
      ]
    },
    {
      "cell_type": "markdown",
      "source": [
        "Nested Loop"
      ],
      "metadata": {
        "id": "pWuKLveZ8jrR"
      }
    },
    {
      "cell_type": "code",
      "source": [
        "age=int(input())\n",
        "income=int(input())\n",
        "\n",
        "if(age>=18):\n",
        "  if(income>=30000):\n",
        "    print(\"you are eligibal for vote and credit card\")\n",
        "  else:\n",
        "    print(\"you are eligibal for vote but not credit card\")\n",
        "else:\n",
        "  print(\"no eligibal\")"
      ],
      "metadata": {
        "colab": {
          "base_uri": "https://localhost:8080/"
        },
        "id": "37BAJdYk8mao",
        "outputId": "b88d80fe-169f-47a5-abfa-fb61389f2795"
      },
      "execution_count": 14,
      "outputs": [
        {
          "output_type": "stream",
          "name": "stdout",
          "text": [
            "20\n",
            "1000000\n",
            "you are eligibal for vote and credit card\n"
          ]
        }
      ]
    },
    {
      "cell_type": "markdown",
      "source": [
        "**Shorthand if statement** ternary operator"
      ],
      "metadata": {
        "id": "ZoQuutpm-CGA"
      }
    },
    {
      "cell_type": "code",
      "source": [
        "s='hello word'\n",
        "ans=True if('h' in s) else False\n",
        "print(ans)"
      ],
      "metadata": {
        "colab": {
          "base_uri": "https://localhost:8080/"
        },
        "id": "ouOzPezE-Gpt",
        "outputId": "4ddf359c-9611-4e9d-881e-92866ea3e7f1"
      },
      "execution_count": 15,
      "outputs": [
        {
          "output_type": "stream",
          "name": "stdout",
          "text": [
            "True\n"
          ]
        }
      ]
    }
  ]
}