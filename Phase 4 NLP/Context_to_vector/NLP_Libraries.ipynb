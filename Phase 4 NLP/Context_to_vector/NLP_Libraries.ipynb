{
  "nbformat": 4,
  "nbformat_minor": 0,
  "metadata": {
    "colab": {
      "provenance": [],
      "include_colab_link": true
    },
    "kernelspec": {
      "name": "python3",
      "display_name": "Python 3"
    },
    "language_info": {
      "name": "python"
    }
  },
  "cells": [
    {
      "cell_type": "markdown",
      "metadata": {
        "id": "view-in-github",
        "colab_type": "text"
      },
      "source": [
        "<a href=\"https://colab.research.google.com/github/Rishabh9559/Data_science/blob/main/Phase%204%20NLP/Context_to_vector/NLP_Libraries.ipynb\" target=\"_parent\"><img src=\"https://colab.research.google.com/assets/colab-badge.svg\" alt=\"Open In Colab\"/></a>"
      ]
    },
    {
      "cell_type": "code",
      "execution_count": null,
      "metadata": {
        "colab": {
          "base_uri": "https://localhost:8080/"
        },
        "id": "Xk0ij7kRCTj2",
        "outputId": "4f67febf-3e14-4c7a-e287-f759c6b78159"
      },
      "outputs": [
        {
          "output_type": "stream",
          "name": "stdout",
          "text": [
            "Collecting gensim\n",
            "  Downloading gensim-4.4.0-cp312-cp312-manylinux_2_24_x86_64.manylinux_2_28_x86_64.whl.metadata (8.4 kB)\n",
            "Requirement already satisfied: numpy>=1.18.5 in /usr/local/lib/python3.12/dist-packages (from gensim) (2.0.2)\n",
            "Requirement already satisfied: scipy>=1.7.0 in /usr/local/lib/python3.12/dist-packages (from gensim) (1.16.2)\n",
            "Requirement already satisfied: smart_open>=1.8.1 in /usr/local/lib/python3.12/dist-packages (from gensim) (7.3.1)\n",
            "Requirement already satisfied: wrapt in /usr/local/lib/python3.12/dist-packages (from smart_open>=1.8.1->gensim) (1.17.3)\n",
            "Downloading gensim-4.4.0-cp312-cp312-manylinux_2_24_x86_64.manylinux_2_28_x86_64.whl (27.9 MB)\n",
            "\u001b[2K   \u001b[90m━━━━━━━━━━━━━━━━━━━━━━━━━━━━━━━━━━━━━━━━\u001b[0m \u001b[32m27.9/27.9 MB\u001b[0m \u001b[31m67.5 MB/s\u001b[0m eta \u001b[36m0:00:00\u001b[0m\n",
            "\u001b[?25hInstalling collected packages: gensim\n",
            "Successfully installed gensim-4.4.0\n"
          ]
        }
      ],
      "source": [
        "!pip install gensim"
      ]
    },
    {
      "cell_type": "code",
      "source": [
        "from gensim.models import Word2Vec\n",
        "sentences = [['natural', 'language', 'processing', 'nlp', 'field', 'combine', 'computer', 'science', 'artificial', 'intelligence', 'language', 'study', 'help', 'computer', 'understand', 'process', 'create', 'human', 'language', 'way', 'make', 'sense', 'useful', 'growing', 'amount', 'text', 'data', 'social', 'medium', 'website', 'source', 'nlp', 'becoming', 'key', 'tool', 'gain', 'insight', 'automate', 'task', 'like', 'analyzing', 'text', 'translating', 'language']]\n",
        "model = Word2Vec(sentences, vector_size=50, window=3, min_count=1, workers=4)\n",
        "print(model.wv['natural'])"
      ],
      "metadata": {
        "colab": {
          "base_uri": "https://localhost:8080/"
        },
        "id": "bsFAMIG8C_C1",
        "outputId": "08fb9251-7403-4cdc-8d4a-c520b9e2ad3e"
      },
      "execution_count": null,
      "outputs": [
        {
          "output_type": "stream",
          "name": "stdout",
          "text": [
            "[-0.01037544 -0.01479442 -0.00582388 -0.00172863  0.00705572  0.01948378\n",
            " -0.00677855  0.00380354  0.01936202  0.00306317  0.00197299  0.01960474\n",
            "  0.01859092  0.01541613 -0.01234105  0.01996797  0.01169797  0.01814533\n",
            " -0.0039904   0.00669987  0.01366711 -0.00778751  0.0132857   0.00512573\n",
            "  0.01862746 -0.00607161 -0.00621874  0.01243078 -0.01815649 -0.01450798\n",
            " -0.01300005 -0.00149815 -0.00472604  0.01363104  0.01847318 -0.00181952\n",
            "  0.00282565  0.00404071 -0.0040396  -0.01606868  0.0148821  -0.0085958\n",
            "  0.00915304  0.01817941  0.00608644  0.00627758  0.00812366 -0.00540243\n",
            "  0.00764954  0.00067525]\n"
          ]
        }
      ]
    },
    {
      "cell_type": "code",
      "source": [
        "for token in sentences:\n",
        "  print(model.wv[token])"
      ],
      "metadata": {
        "colab": {
          "base_uri": "https://localhost:8080/"
        },
        "id": "SzK7wQdpDgm8",
        "outputId": "7293cf7b-0cac-4b70-df25-efe5eb830e54"
      },
      "execution_count": null,
      "outputs": [
        {
          "output_type": "stream",
          "name": "stdout",
          "text": [
            "[[-0.01037544 -0.01479442 -0.00582388 ... -0.00540243  0.00764954\n",
            "   0.00067525]\n",
            " [-0.00108949  0.00043467  0.01020348 ...  0.019192    0.00998422\n",
            "   0.01846741]\n",
            " [ 0.01946244 -0.01958262 -0.01299524 ...  0.00045938  0.01892731\n",
            "  -0.00520865]\n",
            " ...\n",
            " [-0.01632091  0.00896744 -0.00827308 ... -0.01409276  0.00181619\n",
            "   0.012786  ]\n",
            " [ 0.00018957  0.0061436  -0.01361971 ... -0.00540813 -0.00872874\n",
            "  -0.00206447]\n",
            " [-0.00108949  0.00043467  0.01020348 ...  0.019192    0.00998422\n",
            "   0.01846741]]\n"
          ]
        }
      ]
    },
    {
      "cell_type": "code",
      "source": [],
      "metadata": {
        "id": "lNPQc_0nECMH"
      },
      "execution_count": null,
      "outputs": []
    }
  ]
}