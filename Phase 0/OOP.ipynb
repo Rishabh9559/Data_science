{
  "nbformat": 4,
  "nbformat_minor": 0,
  "metadata": {
    "colab": {
      "provenance": [],
      "authorship_tag": "ABX9TyOQvstwVliv54E0ucCeGboa",
      "include_colab_link": true
    },
    "kernelspec": {
      "name": "python3",
      "display_name": "Python 3"
    },
    "language_info": {
      "name": "python"
    }
  },
  "cells": [
    {
      "cell_type": "markdown",
      "metadata": {
        "id": "view-in-github",
        "colab_type": "text"
      },
      "source": [
        "<a href=\"https://colab.research.google.com/github/Rishabh9559/Data_science/blob/main/OOP.ipynb\" target=\"_parent\"><img src=\"https://colab.research.google.com/assets/colab-badge.svg\" alt=\"Open In Colab\"/></a>"
      ]
    },
    {
      "cell_type": "markdown",
      "source": [
        "**OPP**"
      ],
      "metadata": {
        "id": "bBeugxZqUG_q"
      }
    },
    {
      "cell_type": "markdown",
      "source": [
        "OOP promotes code organization, reusability, and maintainability through concepts like encapsulation, inheritance, and polymorphism, which are not readily available with simple functions. While functions are useful for specific tasks\n",
        "\n",
        "\n",
        "\n",
        "\n"
      ],
      "metadata": {
        "id": "0teRNogqSrlV"
      }
    },
    {
      "cell_type": "markdown",
      "source": [
        "**Class**"
      ],
      "metadata": {
        "id": "6AnFe5D6TRxH"
      }
    },
    {
      "cell_type": "markdown",
      "source": [
        "**class** :  a class is a blueprint or template for creating objects, defining their properties (variables) and behaviors (methods).\n",
        "\n",
        "It's a user-defined data type that groups related data and functions together."
      ],
      "metadata": {
        "id": "BYxaZ2sBSvW5"
      }
    },
    {
      "cell_type": "markdown",
      "source": [
        "**Object**"
      ],
      "metadata": {
        "id": "rzHGQ22sTUdk"
      }
    },
    {
      "cell_type": "markdown",
      "source": [
        "An object is a fundamental unit that represents a real-world entity or concept.<br> It encapsulates data (attributes) and behavior (methods) related to that entity.\n",
        "<br>Essentially, an object is an instance of a class"
      ],
      "metadata": {
        "id": "MuCMMfJ7TWyj"
      }
    },
    {
      "cell_type": "markdown",
      "source": [],
      "metadata": {
        "id": "fOb6KV7WTr0H"
      }
    }
  ]
}
