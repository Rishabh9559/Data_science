{
  "nbformat": 4,
  "nbformat_minor": 0,
  "metadata": {
    "colab": {
      "provenance": [],
      "authorship_tag": "ABX9TyP2fziEqyHHLEC9r8YegYQR",
      "include_colab_link": true
    },
    "kernelspec": {
      "name": "python3",
      "display_name": "Python 3"
    },
    "language_info": {
      "name": "python"
    }
  },
  "cells": [
    {
      "cell_type": "markdown",
      "metadata": {
        "id": "view-in-github",
        "colab_type": "text"
      },
      "source": [
        "<a href=\"https://colab.research.google.com/github/Rishabh9559/Data_science/blob/main/Descriptive_Statistices.ipynb\" target=\"_parent\"><img src=\"https://colab.research.google.com/assets/colab-badge.svg\" alt=\"Open In Colab\"/></a>"
      ]
    },
    {
      "cell_type": "markdown",
      "source": [
        "**Sampling Techniques**"
      ],
      "metadata": {
        "id": "zZg-Z5Q0nGcm"
      }
    },
    {
      "cell_type": "markdown",
      "source": [
        "**1. Random Sampling** :  seleted random samples\n",
        "\n",
        "Also known as probability sampling, is a method where each member of a population has an equal and independent chance of being selected for a sample"
      ],
      "metadata": {
        "id": "VcGjfENVnMCK"
      }
    },
    {
      "cell_type": "markdown",
      "source": [
        "**2. Stratified Sampling : -**\n",
        "\n",
        "Stratified sampling involves dividing a population into homogeneous subgroups called strata. These strata are based on specific characteristics like age, gender, income, or education level."
      ],
      "metadata": {
        "id": "R_DUM9oWnhEH"
      }
    },
    {
      "cell_type": "markdown",
      "source": [],
      "metadata": {
        "id": "2USn4MM1ousG"
      }
    }
  ]
}